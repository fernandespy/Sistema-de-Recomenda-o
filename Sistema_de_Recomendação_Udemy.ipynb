{
  "cells": [
    {
      "cell_type": "markdown",
      "metadata": {
        "id": "aNT_EblGzhQX"
      },
      "source": [
        "**Dicas:**\n",
        "1. O que quer recomendar?\n",
        "2. Alinhe com o gestor de produtos/comercial\n",
        "3. Teste !!!"
      ]
    },
    {
      "cell_type": "code",
      "execution_count": 1,
      "metadata": {
        "id": "SKuPVRs6z8aq"
      },
      "outputs": [],
      "source": [
        "# Importações\n",
        "\n",
        "# Modelagem de dados\n",
        "import pandas as pd # Dados\n",
        "import numpy as np # Matrizes\n",
        "\n",
        "# Analises gráficas\n",
        "import matplotlib.pyplot as plt\n",
        "import seaborn as sns\n",
        "import plotly.express as px\n",
        "\n",
        "# Avisos\n",
        "import warnings\n",
        "warnings.filterwarnings('ignore')\n",
        "\n",
        "# Ajustes no pandas\n",
        "pd.set_option('display.max_rows', 100 ) # Linhas\n",
        "pd.set_option('display.max_columns', 50 ) # Colunas\n",
        "\n",
        "# Ajustes no matplot\n",
        "plt.rcParams['figure.figsize'] = (15, 6)  # Tamanho do gráfico\n",
        "plt.style.use('seaborn-darkgrid') # Estilo do gráfico"
      ]
    },
    {
      "cell_type": "markdown",
      "metadata": {
        "id": "4rkWniPT11nD"
      },
      "source": [
        "# **Importação dos dados**"
      ]
    },
    {
      "cell_type": "code",
      "execution_count": 2,
      "metadata": {
        "colab": {
          "base_uri": "https://localhost:8080/"
        },
        "id": "u0XuDuI-1Oss",
        "outputId": "22df1303-0c3b-48d9-f7d4-7c33d28d666e"
      },
      "outputs": [
        {
          "data": {
            "text/plain": [
              "((271360, 8), (1149780, 3), (278858, 3))"
            ]
          },
          "execution_count": 2,
          "metadata": {},
          "output_type": "execute_result"
        }
      ],
      "source": [
        "# Ler os dados\n",
        "Dados_Livros = pd.read_csv('Books.csv')\n",
        "Dados_Avaliacao = pd.read_csv('Ratings.csv')\n",
        "Dados_Usuario = pd.read_csv('Users.csv')\n",
        "\n",
        "# Dimensçao [ Linhas, Colunas ]\n",
        "Dados_Livros.shape, Dados_Avaliacao.shape, Dados_Usuario.shape"
      ]
    },
    {
      "cell_type": "code",
      "execution_count": 3,
      "metadata": {
        "colab": {
          "base_uri": "https://localhost:8080/",
          "height": 478
        },
        "id": "danRVUnx1q7A",
        "outputId": "b82d86fc-6c93-45e8-d2de-b2bcd3d9c29b"
      },
      "outputs": [
        {
          "data": {
            "text/html": [
              "<div>\n",
              "<style scoped>\n",
              "    .dataframe tbody tr th:only-of-type {\n",
              "        vertical-align: middle;\n",
              "    }\n",
              "\n",
              "    .dataframe tbody tr th {\n",
              "        vertical-align: top;\n",
              "    }\n",
              "\n",
              "    .dataframe thead th {\n",
              "        text-align: right;\n",
              "    }\n",
              "</style>\n",
              "<table border=\"1\" class=\"dataframe\">\n",
              "  <thead>\n",
              "    <tr style=\"text-align: right;\">\n",
              "      <th></th>\n",
              "      <th>ISBN</th>\n",
              "      <th>Book-Title</th>\n",
              "      <th>Book-Author</th>\n",
              "      <th>Year-Of-Publication</th>\n",
              "      <th>Publisher</th>\n",
              "      <th>Image-URL-S</th>\n",
              "      <th>Image-URL-M</th>\n",
              "      <th>Image-URL-L</th>\n",
              "    </tr>\n",
              "  </thead>\n",
              "  <tbody>\n",
              "    <tr>\n",
              "      <th>0</th>\n",
              "      <td>0195153448</td>\n",
              "      <td>Classical Mythology</td>\n",
              "      <td>Mark P. O. Morford</td>\n",
              "      <td>2002</td>\n",
              "      <td>Oxford University Press</td>\n",
              "      <td>http://images.amazon.com/images/P/0195153448.0...</td>\n",
              "      <td>http://images.amazon.com/images/P/0195153448.0...</td>\n",
              "      <td>http://images.amazon.com/images/P/0195153448.0...</td>\n",
              "    </tr>\n",
              "    <tr>\n",
              "      <th>1</th>\n",
              "      <td>0002005018</td>\n",
              "      <td>Clara Callan</td>\n",
              "      <td>Richard Bruce Wright</td>\n",
              "      <td>2001</td>\n",
              "      <td>HarperFlamingo Canada</td>\n",
              "      <td>http://images.amazon.com/images/P/0002005018.0...</td>\n",
              "      <td>http://images.amazon.com/images/P/0002005018.0...</td>\n",
              "      <td>http://images.amazon.com/images/P/0002005018.0...</td>\n",
              "    </tr>\n",
              "    <tr>\n",
              "      <th>2</th>\n",
              "      <td>0060973129</td>\n",
              "      <td>Decision in Normandy</td>\n",
              "      <td>Carlo D'Este</td>\n",
              "      <td>1991</td>\n",
              "      <td>HarperPerennial</td>\n",
              "      <td>http://images.amazon.com/images/P/0060973129.0...</td>\n",
              "      <td>http://images.amazon.com/images/P/0060973129.0...</td>\n",
              "      <td>http://images.amazon.com/images/P/0060973129.0...</td>\n",
              "    </tr>\n",
              "    <tr>\n",
              "      <th>3</th>\n",
              "      <td>0374157065</td>\n",
              "      <td>Flu: The Story of the Great Influenza Pandemic...</td>\n",
              "      <td>Gina Bari Kolata</td>\n",
              "      <td>1999</td>\n",
              "      <td>Farrar Straus Giroux</td>\n",
              "      <td>http://images.amazon.com/images/P/0374157065.0...</td>\n",
              "      <td>http://images.amazon.com/images/P/0374157065.0...</td>\n",
              "      <td>http://images.amazon.com/images/P/0374157065.0...</td>\n",
              "    </tr>\n",
              "    <tr>\n",
              "      <th>4</th>\n",
              "      <td>0393045218</td>\n",
              "      <td>The Mummies of Urumchi</td>\n",
              "      <td>E. J. W. Barber</td>\n",
              "      <td>1999</td>\n",
              "      <td>W. W. Norton &amp;amp; Company</td>\n",
              "      <td>http://images.amazon.com/images/P/0393045218.0...</td>\n",
              "      <td>http://images.amazon.com/images/P/0393045218.0...</td>\n",
              "      <td>http://images.amazon.com/images/P/0393045218.0...</td>\n",
              "    </tr>\n",
              "  </tbody>\n",
              "</table>\n",
              "</div>"
            ],
            "text/plain": [
              "         ISBN                                         Book-Title  \\\n",
              "0  0195153448                                Classical Mythology   \n",
              "1  0002005018                                       Clara Callan   \n",
              "2  0060973129                               Decision in Normandy   \n",
              "3  0374157065  Flu: The Story of the Great Influenza Pandemic...   \n",
              "4  0393045218                             The Mummies of Urumchi   \n",
              "\n",
              "            Book-Author Year-Of-Publication                   Publisher  \\\n",
              "0    Mark P. O. Morford                2002     Oxford University Press   \n",
              "1  Richard Bruce Wright                2001       HarperFlamingo Canada   \n",
              "2          Carlo D'Este                1991             HarperPerennial   \n",
              "3      Gina Bari Kolata                1999        Farrar Straus Giroux   \n",
              "4       E. J. W. Barber                1999  W. W. Norton &amp; Company   \n",
              "\n",
              "                                         Image-URL-S  \\\n",
              "0  http://images.amazon.com/images/P/0195153448.0...   \n",
              "1  http://images.amazon.com/images/P/0002005018.0...   \n",
              "2  http://images.amazon.com/images/P/0060973129.0...   \n",
              "3  http://images.amazon.com/images/P/0374157065.0...   \n",
              "4  http://images.amazon.com/images/P/0393045218.0...   \n",
              "\n",
              "                                         Image-URL-M  \\\n",
              "0  http://images.amazon.com/images/P/0195153448.0...   \n",
              "1  http://images.amazon.com/images/P/0002005018.0...   \n",
              "2  http://images.amazon.com/images/P/0060973129.0...   \n",
              "3  http://images.amazon.com/images/P/0374157065.0...   \n",
              "4  http://images.amazon.com/images/P/0393045218.0...   \n",
              "\n",
              "                                         Image-URL-L  \n",
              "0  http://images.amazon.com/images/P/0195153448.0...  \n",
              "1  http://images.amazon.com/images/P/0002005018.0...  \n",
              "2  http://images.amazon.com/images/P/0060973129.0...  \n",
              "3  http://images.amazon.com/images/P/0374157065.0...  \n",
              "4  http://images.amazon.com/images/P/0393045218.0...  "
            ]
          },
          "execution_count": 3,
          "metadata": {},
          "output_type": "execute_result"
        }
      ],
      "source": [
        "# Primeiras Linhas\n",
        "Dados_Livros.head()"
      ]
    },
    {
      "cell_type": "code",
      "execution_count": 4,
      "metadata": {
        "colab": {
          "base_uri": "https://localhost:8080/"
        },
        "id": "gKnAdFB92OLS",
        "outputId": "47d56c8b-e22d-4c18-f2c8-088446bd452b"
      },
      "outputs": [
        {
          "name": "stdout",
          "output_type": "stream",
          "text": [
            "<class 'pandas.core.frame.DataFrame'>\n",
            "RangeIndex: 271360 entries, 0 to 271359\n",
            "Data columns (total 8 columns):\n",
            " #   Column               Non-Null Count   Dtype \n",
            "---  ------               --------------   ----- \n",
            " 0   ISBN                 271360 non-null  object\n",
            " 1   Book-Title           271360 non-null  object\n",
            " 2   Book-Author          271359 non-null  object\n",
            " 3   Year-Of-Publication  271360 non-null  object\n",
            " 4   Publisher            271358 non-null  object\n",
            " 5   Image-URL-S          271360 non-null  object\n",
            " 6   Image-URL-M          271360 non-null  object\n",
            " 7   Image-URL-L          271357 non-null  object\n",
            "dtypes: object(8)\n",
            "memory usage: 16.6+ MB\n"
          ]
        }
      ],
      "source": [
        "# Info\n",
        "Dados_Livros.info()"
      ]
    },
    {
      "cell_type": "code",
      "execution_count": 5,
      "metadata": {
        "colab": {
          "base_uri": "https://localhost:8080/",
          "height": 206
        },
        "id": "oL9oiksJ2d3K",
        "outputId": "8b7fa5f6-cef8-4a25-fa21-c465b95f0f9f"
      },
      "outputs": [
        {
          "data": {
            "text/html": [
              "<div>\n",
              "<style scoped>\n",
              "    .dataframe tbody tr th:only-of-type {\n",
              "        vertical-align: middle;\n",
              "    }\n",
              "\n",
              "    .dataframe tbody tr th {\n",
              "        vertical-align: top;\n",
              "    }\n",
              "\n",
              "    .dataframe thead th {\n",
              "        text-align: right;\n",
              "    }\n",
              "</style>\n",
              "<table border=\"1\" class=\"dataframe\">\n",
              "  <thead>\n",
              "    <tr style=\"text-align: right;\">\n",
              "      <th></th>\n",
              "      <th>User-ID</th>\n",
              "      <th>ISBN</th>\n",
              "      <th>Book-Rating</th>\n",
              "    </tr>\n",
              "  </thead>\n",
              "  <tbody>\n",
              "    <tr>\n",
              "      <th>0</th>\n",
              "      <td>276725</td>\n",
              "      <td>034545104X</td>\n",
              "      <td>0</td>\n",
              "    </tr>\n",
              "    <tr>\n",
              "      <th>1</th>\n",
              "      <td>276726</td>\n",
              "      <td>0155061224</td>\n",
              "      <td>5</td>\n",
              "    </tr>\n",
              "    <tr>\n",
              "      <th>2</th>\n",
              "      <td>276727</td>\n",
              "      <td>0446520802</td>\n",
              "      <td>0</td>\n",
              "    </tr>\n",
              "    <tr>\n",
              "      <th>3</th>\n",
              "      <td>276729</td>\n",
              "      <td>052165615X</td>\n",
              "      <td>3</td>\n",
              "    </tr>\n",
              "    <tr>\n",
              "      <th>4</th>\n",
              "      <td>276729</td>\n",
              "      <td>0521795028</td>\n",
              "      <td>6</td>\n",
              "    </tr>\n",
              "  </tbody>\n",
              "</table>\n",
              "</div>"
            ],
            "text/plain": [
              "   User-ID        ISBN  Book-Rating\n",
              "0   276725  034545104X            0\n",
              "1   276726  0155061224            5\n",
              "2   276727  0446520802            0\n",
              "3   276729  052165615X            3\n",
              "4   276729  0521795028            6"
            ]
          },
          "execution_count": 5,
          "metadata": {},
          "output_type": "execute_result"
        }
      ],
      "source": [
        "# Verificando\n",
        "Dados_Avaliacao.head()  # Avaliação de 0 até 10"
      ]
    },
    {
      "cell_type": "code",
      "execution_count": 6,
      "metadata": {
        "colab": {
          "base_uri": "https://localhost:8080/"
        },
        "id": "bD6HLh6G2rfU",
        "outputId": "462d0d93-fba3-4ec7-c1ef-814a99a284cd"
      },
      "outputs": [
        {
          "name": "stdout",
          "output_type": "stream",
          "text": [
            "<class 'pandas.core.frame.DataFrame'>\n",
            "RangeIndex: 1149780 entries, 0 to 1149779\n",
            "Data columns (total 3 columns):\n",
            " #   Column       Non-Null Count    Dtype \n",
            "---  ------       --------------    ----- \n",
            " 0   User-ID      1149780 non-null  int64 \n",
            " 1   ISBN         1149780 non-null  object\n",
            " 2   Book-Rating  1149780 non-null  int64 \n",
            "dtypes: int64(2), object(1)\n",
            "memory usage: 26.3+ MB\n"
          ]
        }
      ],
      "source": [
        "# Info\n",
        "Dados_Avaliacao.info()"
      ]
    },
    {
      "cell_type": "code",
      "execution_count": 7,
      "metadata": {
        "colab": {
          "base_uri": "https://localhost:8080/",
          "height": 206
        },
        "id": "DEUuxxlf23Yc",
        "outputId": "07b8f022-dbec-4e0c-9683-617880715793"
      },
      "outputs": [
        {
          "data": {
            "text/html": [
              "<div>\n",
              "<style scoped>\n",
              "    .dataframe tbody tr th:only-of-type {\n",
              "        vertical-align: middle;\n",
              "    }\n",
              "\n",
              "    .dataframe tbody tr th {\n",
              "        vertical-align: top;\n",
              "    }\n",
              "\n",
              "    .dataframe thead th {\n",
              "        text-align: right;\n",
              "    }\n",
              "</style>\n",
              "<table border=\"1\" class=\"dataframe\">\n",
              "  <thead>\n",
              "    <tr style=\"text-align: right;\">\n",
              "      <th></th>\n",
              "      <th>User-ID</th>\n",
              "      <th>Location</th>\n",
              "      <th>Age</th>\n",
              "    </tr>\n",
              "  </thead>\n",
              "  <tbody>\n",
              "    <tr>\n",
              "      <th>0</th>\n",
              "      <td>1</td>\n",
              "      <td>nyc, new york, usa</td>\n",
              "      <td>NaN</td>\n",
              "    </tr>\n",
              "    <tr>\n",
              "      <th>1</th>\n",
              "      <td>2</td>\n",
              "      <td>stockton, california, usa</td>\n",
              "      <td>18.0</td>\n",
              "    </tr>\n",
              "    <tr>\n",
              "      <th>2</th>\n",
              "      <td>3</td>\n",
              "      <td>moscow, yukon territory, russia</td>\n",
              "      <td>NaN</td>\n",
              "    </tr>\n",
              "    <tr>\n",
              "      <th>3</th>\n",
              "      <td>4</td>\n",
              "      <td>porto, v.n.gaia, portugal</td>\n",
              "      <td>17.0</td>\n",
              "    </tr>\n",
              "    <tr>\n",
              "      <th>4</th>\n",
              "      <td>5</td>\n",
              "      <td>farnborough, hants, united kingdom</td>\n",
              "      <td>NaN</td>\n",
              "    </tr>\n",
              "  </tbody>\n",
              "</table>\n",
              "</div>"
            ],
            "text/plain": [
              "   User-ID                            Location   Age\n",
              "0        1                  nyc, new york, usa   NaN\n",
              "1        2           stockton, california, usa  18.0\n",
              "2        3     moscow, yukon territory, russia   NaN\n",
              "3        4           porto, v.n.gaia, portugal  17.0\n",
              "4        5  farnborough, hants, united kingdom   NaN"
            ]
          },
          "execution_count": 7,
          "metadata": {},
          "output_type": "execute_result"
        }
      ],
      "source": [
        "# Verficando\n",
        "Dados_Usuario.head()"
      ]
    },
    {
      "cell_type": "code",
      "execution_count": 8,
      "metadata": {
        "colab": {
          "base_uri": "https://localhost:8080/"
        },
        "id": "dCBpla1k2-p0",
        "outputId": "feb71da2-ba9b-4d91-9f92-9896e7e6f043"
      },
      "outputs": [
        {
          "name": "stdout",
          "output_type": "stream",
          "text": [
            "<class 'pandas.core.frame.DataFrame'>\n",
            "RangeIndex: 278858 entries, 0 to 278857\n",
            "Data columns (total 3 columns):\n",
            " #   Column    Non-Null Count   Dtype  \n",
            "---  ------    --------------   -----  \n",
            " 0   User-ID   278858 non-null  int64  \n",
            " 1   Location  278858 non-null  object \n",
            " 2   Age       168096 non-null  float64\n",
            "dtypes: float64(1), int64(1), object(1)\n",
            "memory usage: 6.4+ MB\n"
          ]
        }
      ],
      "source": [
        "# Info\n",
        "Dados_Usuario.info()"
      ]
    },
    {
      "cell_type": "markdown",
      "metadata": {
        "id": "kOctG96g4-yK"
      },
      "source": [
        "# **Modelagem dos dados**"
      ]
    },
    {
      "cell_type": "code",
      "execution_count": 9,
      "metadata": {
        "colab": {
          "base_uri": "https://localhost:8080/"
        },
        "id": "UEUyMRMl3B6_",
        "outputId": "e62e1d41-486e-46f4-a352-24688a20e275"
      },
      "outputs": [
        {
          "data": {
            "text/plain": [
              "(1031136, 12)"
            ]
          },
          "execution_count": 9,
          "metadata": {},
          "output_type": "execute_result"
        }
      ],
      "source": [
        "# Cruzamentos de dados\n",
        "\n",
        "# 1º Cruzamento\n",
        "Tab_Cruzada = Dados_Livros.merge( Dados_Avaliacao, how='inner', on='ISBN')\n",
        "\n",
        "# 2º Cruzamento\n",
        "Tab_Cruzada = Tab_Cruzada.merge( Dados_Usuario, how='inner', on='User-ID')\n",
        "\n",
        "# Dimensão\n",
        "Tab_Cruzada.shape"
      ]
    },
    {
      "cell_type": "code",
      "execution_count": 10,
      "metadata": {
        "colab": {
          "base_uri": "https://localhost:8080/"
        },
        "id": "6n5R4zZm3pmj",
        "outputId": "4d5de399-1ea3-4c6c-c72b-808dd2a681f5"
      },
      "outputs": [
        {
          "data": {
            "text/html": [
              "<div>\n",
              "<style scoped>\n",
              "    .dataframe tbody tr th:only-of-type {\n",
              "        vertical-align: middle;\n",
              "    }\n",
              "\n",
              "    .dataframe tbody tr th {\n",
              "        vertical-align: top;\n",
              "    }\n",
              "\n",
              "    .dataframe thead th {\n",
              "        text-align: right;\n",
              "    }\n",
              "</style>\n",
              "<table border=\"1\" class=\"dataframe\">\n",
              "  <thead>\n",
              "    <tr style=\"text-align: right;\">\n",
              "      <th></th>\n",
              "      <th>ISBN</th>\n",
              "      <th>Book-Title</th>\n",
              "      <th>Book-Author</th>\n",
              "      <th>Year-Of-Publication</th>\n",
              "      <th>Publisher</th>\n",
              "      <th>Image-URL-S</th>\n",
              "      <th>Image-URL-M</th>\n",
              "      <th>Image-URL-L</th>\n",
              "      <th>User-ID</th>\n",
              "      <th>Book-Rating</th>\n",
              "      <th>Location</th>\n",
              "      <th>Age</th>\n",
              "    </tr>\n",
              "  </thead>\n",
              "  <tbody>\n",
              "    <tr>\n",
              "      <th>0</th>\n",
              "      <td>0195153448</td>\n",
              "      <td>Classical Mythology</td>\n",
              "      <td>Mark P. O. Morford</td>\n",
              "      <td>2002</td>\n",
              "      <td>Oxford University Press</td>\n",
              "      <td>http://images.amazon.com/images/P/0195153448.0...</td>\n",
              "      <td>http://images.amazon.com/images/P/0195153448.0...</td>\n",
              "      <td>http://images.amazon.com/images/P/0195153448.0...</td>\n",
              "      <td>2</td>\n",
              "      <td>0</td>\n",
              "      <td>stockton, california, usa</td>\n",
              "      <td>18.0</td>\n",
              "    </tr>\n",
              "    <tr>\n",
              "      <th>1</th>\n",
              "      <td>0002005018</td>\n",
              "      <td>Clara Callan</td>\n",
              "      <td>Richard Bruce Wright</td>\n",
              "      <td>2001</td>\n",
              "      <td>HarperFlamingo Canada</td>\n",
              "      <td>http://images.amazon.com/images/P/0002005018.0...</td>\n",
              "      <td>http://images.amazon.com/images/P/0002005018.0...</td>\n",
              "      <td>http://images.amazon.com/images/P/0002005018.0...</td>\n",
              "      <td>8</td>\n",
              "      <td>5</td>\n",
              "      <td>timmins, ontario, canada</td>\n",
              "      <td>NaN</td>\n",
              "    </tr>\n",
              "    <tr>\n",
              "      <th>2</th>\n",
              "      <td>0060973129</td>\n",
              "      <td>Decision in Normandy</td>\n",
              "      <td>Carlo D'Este</td>\n",
              "      <td>1991</td>\n",
              "      <td>HarperPerennial</td>\n",
              "      <td>http://images.amazon.com/images/P/0060973129.0...</td>\n",
              "      <td>http://images.amazon.com/images/P/0060973129.0...</td>\n",
              "      <td>http://images.amazon.com/images/P/0060973129.0...</td>\n",
              "      <td>8</td>\n",
              "      <td>0</td>\n",
              "      <td>timmins, ontario, canada</td>\n",
              "      <td>NaN</td>\n",
              "    </tr>\n",
              "    <tr>\n",
              "      <th>3</th>\n",
              "      <td>0374157065</td>\n",
              "      <td>Flu: The Story of the Great Influenza Pandemic...</td>\n",
              "      <td>Gina Bari Kolata</td>\n",
              "      <td>1999</td>\n",
              "      <td>Farrar Straus Giroux</td>\n",
              "      <td>http://images.amazon.com/images/P/0374157065.0...</td>\n",
              "      <td>http://images.amazon.com/images/P/0374157065.0...</td>\n",
              "      <td>http://images.amazon.com/images/P/0374157065.0...</td>\n",
              "      <td>8</td>\n",
              "      <td>0</td>\n",
              "      <td>timmins, ontario, canada</td>\n",
              "      <td>NaN</td>\n",
              "    </tr>\n",
              "    <tr>\n",
              "      <th>4</th>\n",
              "      <td>0393045218</td>\n",
              "      <td>The Mummies of Urumchi</td>\n",
              "      <td>E. J. W. Barber</td>\n",
              "      <td>1999</td>\n",
              "      <td>W. W. Norton &amp;amp; Company</td>\n",
              "      <td>http://images.amazon.com/images/P/0393045218.0...</td>\n",
              "      <td>http://images.amazon.com/images/P/0393045218.0...</td>\n",
              "      <td>http://images.amazon.com/images/P/0393045218.0...</td>\n",
              "      <td>8</td>\n",
              "      <td>0</td>\n",
              "      <td>timmins, ontario, canada</td>\n",
              "      <td>NaN</td>\n",
              "    </tr>\n",
              "  </tbody>\n",
              "</table>\n",
              "</div>"
            ],
            "text/plain": [
              "         ISBN                                         Book-Title  \\\n",
              "0  0195153448                                Classical Mythology   \n",
              "1  0002005018                                       Clara Callan   \n",
              "2  0060973129                               Decision in Normandy   \n",
              "3  0374157065  Flu: The Story of the Great Influenza Pandemic...   \n",
              "4  0393045218                             The Mummies of Urumchi   \n",
              "\n",
              "            Book-Author Year-Of-Publication                   Publisher  \\\n",
              "0    Mark P. O. Morford                2002     Oxford University Press   \n",
              "1  Richard Bruce Wright                2001       HarperFlamingo Canada   \n",
              "2          Carlo D'Este                1991             HarperPerennial   \n",
              "3      Gina Bari Kolata                1999        Farrar Straus Giroux   \n",
              "4       E. J. W. Barber                1999  W. W. Norton &amp; Company   \n",
              "\n",
              "                                         Image-URL-S  \\\n",
              "0  http://images.amazon.com/images/P/0195153448.0...   \n",
              "1  http://images.amazon.com/images/P/0002005018.0...   \n",
              "2  http://images.amazon.com/images/P/0060973129.0...   \n",
              "3  http://images.amazon.com/images/P/0374157065.0...   \n",
              "4  http://images.amazon.com/images/P/0393045218.0...   \n",
              "\n",
              "                                         Image-URL-M  \\\n",
              "0  http://images.amazon.com/images/P/0195153448.0...   \n",
              "1  http://images.amazon.com/images/P/0002005018.0...   \n",
              "2  http://images.amazon.com/images/P/0060973129.0...   \n",
              "3  http://images.amazon.com/images/P/0374157065.0...   \n",
              "4  http://images.amazon.com/images/P/0393045218.0...   \n",
              "\n",
              "                                         Image-URL-L  User-ID  Book-Rating  \\\n",
              "0  http://images.amazon.com/images/P/0195153448.0...        2            0   \n",
              "1  http://images.amazon.com/images/P/0002005018.0...        8            5   \n",
              "2  http://images.amazon.com/images/P/0060973129.0...        8            0   \n",
              "3  http://images.amazon.com/images/P/0374157065.0...        8            0   \n",
              "4  http://images.amazon.com/images/P/0393045218.0...        8            0   \n",
              "\n",
              "                    Location   Age  \n",
              "0  stockton, california, usa  18.0  \n",
              "1   timmins, ontario, canada   NaN  \n",
              "2   timmins, ontario, canada   NaN  \n",
              "3   timmins, ontario, canada   NaN  \n",
              "4   timmins, ontario, canada   NaN  "
            ]
          },
          "execution_count": 10,
          "metadata": {},
          "output_type": "execute_result"
        }
      ],
      "source": [
        "# Verificar\n",
        "Tab_Cruzada.head()"
      ]
    },
    {
      "cell_type": "code",
      "execution_count": 11,
      "metadata": {
        "colab": {
          "base_uri": "https://localhost:8080/"
        },
        "id": "xucjSs783pxM",
        "outputId": "07d23b6a-9ca9-4759-8a93-176f51cc22de"
      },
      "outputs": [
        {
          "name": "stdout",
          "output_type": "stream",
          "text": [
            "<class 'pandas.core.frame.DataFrame'>\n",
            "Int64Index: 1031136 entries, 0 to 1031135\n",
            "Data columns (total 12 columns):\n",
            " #   Column               Non-Null Count    Dtype  \n",
            "---  ------               --------------    -----  \n",
            " 0   ISBN                 1031136 non-null  object \n",
            " 1   Book-Title           1031136 non-null  object \n",
            " 2   Book-Author          1031135 non-null  object \n",
            " 3   Year-Of-Publication  1031136 non-null  object \n",
            " 4   Publisher            1031134 non-null  object \n",
            " 5   Image-URL-S          1031136 non-null  object \n",
            " 6   Image-URL-M          1031136 non-null  object \n",
            " 7   Image-URL-L          1031132 non-null  object \n",
            " 8   User-ID              1031136 non-null  int64  \n",
            " 9   Book-Rating          1031136 non-null  int64  \n",
            " 10  Location             1031136 non-null  object \n",
            " 11  Age                  753301 non-null   float64\n",
            "dtypes: float64(1), int64(2), object(9)\n",
            "memory usage: 102.3+ MB\n"
          ]
        }
      ],
      "source": [
        "# Verificar\n",
        "Tab_Cruzada.info()"
      ]
    },
    {
      "cell_type": "code",
      "execution_count": 12,
      "metadata": {
        "id": "Qs7Rzsvo36Sq"
      },
      "outputs": [],
      "source": [
        "'''\n",
        "  Investigação dos ruidos na base\n",
        "\n",
        "  for Linha in Tab_Cruzada['Year-Of-Publication'].value_counts().index :\n",
        "    print( Linha )\n",
        "\n",
        "  Tab_Cruzada.loc[ Tab_Cruzada['Year-Of-Publication'] == 'DK Publishing Inc' ]\n",
        "\n",
        "'''\n",
        "\n",
        "\n",
        "# Ajustando o registro incorreto\n",
        "Tab_Cruzada.iloc[ 287500, 3 ] = ''\n",
        "Tab_Cruzada.iloc[ 352361, 3 ] = ''\n",
        "Tab_Cruzada.iloc[ 467962, 3 ] = ''\n",
        "Tab_Cruzada.iloc[ 469216, 3 ] = ''\n",
        "\n",
        "# Conveter a coluna Ano\n",
        "Tab_Cruzada['Year-Of-Publication'] = pd.to_numeric( Tab_Cruzada['Year-Of-Publication'] )"
      ]
    },
    {
      "cell_type": "code",
      "execution_count": 13,
      "metadata": {
        "colab": {
          "base_uri": "https://localhost:8080/"
        },
        "id": "KJpmVgyy6STn",
        "outputId": "1ac945de-b175-4661-92d2-1372e71228e6"
      },
      "outputs": [
        {
          "data": {
            "text/plain": [
              "ISBN                    object\n",
              "Book-Title              object\n",
              "Book-Author             object\n",
              "Year-Of-Publication    float64\n",
              "Publisher               object\n",
              "Image-URL-S             object\n",
              "Image-URL-M             object\n",
              "Image-URL-L             object\n",
              "User-ID                  int64\n",
              "Book-Rating              int64\n",
              "Location                object\n",
              "Age                    float64\n",
              "dtype: object"
            ]
          },
          "execution_count": 13,
          "metadata": {},
          "output_type": "execute_result"
        }
      ],
      "source": [
        "# Formato das Colunas\n",
        "Tab_Cruzada.dtypes"
      ]
    },
    {
      "cell_type": "code",
      "execution_count": 14,
      "metadata": {
        "colab": {
          "base_uri": "https://localhost:8080/"
        },
        "id": "OgD9h8Gp62OM",
        "outputId": "7e4edb0c-7d2d-423b-a15b-ecde0d28c5fc"
      },
      "outputs": [
        {
          "data": {
            "text/plain": [
              "0    stockton, california, usa\n",
              "1     timmins, ontario, canada\n",
              "2     timmins, ontario, canada\n",
              "3     timmins, ontario, canada\n",
              "4     timmins, ontario, canada\n",
              "Name: Location, dtype: object"
            ]
          },
          "execution_count": 14,
          "metadata": {},
          "output_type": "execute_result"
        }
      ],
      "source": [
        "# Verificando\n",
        "Tab_Cruzada['Location'].head(5)"
      ]
    },
    {
      "cell_type": "code",
      "execution_count": 15,
      "metadata": {
        "colab": {
          "base_uri": "https://localhost:8080/"
        },
        "id": "lwCN7v7_7btu",
        "outputId": "635c2ee8-6aea-4214-8584-89181971b85f"
      },
      "outputs": [
        {
          "data": {
            "text/plain": [
              "1031131                       venice, florida, usa\n",
              "1031132                   tioga, pennsylvania, usa\n",
              "1031133                      madrid, madrid, spain\n",
              "1031134                  grand prairie, texas, usa\n",
              "1031135    bielefeld, nordrhein-westfalen, germany\n",
              "Name: Location, dtype: object"
            ]
          },
          "execution_count": 15,
          "metadata": {},
          "output_type": "execute_result"
        }
      ],
      "source": [
        "# Verificando\n",
        "Tab_Cruzada['Location'].tail(5)"
      ]
    },
    {
      "cell_type": "code",
      "execution_count": 16,
      "metadata": {
        "colab": {
          "base_uri": "https://localhost:8080/"
        },
        "id": "vyQPN5Ry7gQc",
        "outputId": "d504bf86-be31-40d7-e7a1-167baf3a5cd5"
      },
      "outputs": [
        {
          "data": {
            "text/html": [
              "<div>\n",
              "<style scoped>\n",
              "    .dataframe tbody tr th:only-of-type {\n",
              "        vertical-align: middle;\n",
              "    }\n",
              "\n",
              "    .dataframe tbody tr th {\n",
              "        vertical-align: top;\n",
              "    }\n",
              "\n",
              "    .dataframe thead th {\n",
              "        text-align: right;\n",
              "    }\n",
              "</style>\n",
              "<table border=\"1\" class=\"dataframe\">\n",
              "  <thead>\n",
              "    <tr style=\"text-align: right;\">\n",
              "      <th></th>\n",
              "      <th>ISBN</th>\n",
              "      <th>Book-Title</th>\n",
              "      <th>Book-Author</th>\n",
              "      <th>Year-Of-Publication</th>\n",
              "      <th>Publisher</th>\n",
              "      <th>Image-URL-S</th>\n",
              "      <th>Image-URL-M</th>\n",
              "      <th>Image-URL-L</th>\n",
              "      <th>User-ID</th>\n",
              "      <th>Book-Rating</th>\n",
              "      <th>Location</th>\n",
              "      <th>Age</th>\n",
              "      <th>Pais</th>\n",
              "    </tr>\n",
              "  </thead>\n",
              "  <tbody>\n",
              "    <tr>\n",
              "      <th>0</th>\n",
              "      <td>0195153448</td>\n",
              "      <td>Classical Mythology</td>\n",
              "      <td>Mark P. O. Morford</td>\n",
              "      <td>2002.0</td>\n",
              "      <td>Oxford University Press</td>\n",
              "      <td>http://images.amazon.com/images/P/0195153448.0...</td>\n",
              "      <td>http://images.amazon.com/images/P/0195153448.0...</td>\n",
              "      <td>http://images.amazon.com/images/P/0195153448.0...</td>\n",
              "      <td>2</td>\n",
              "      <td>0</td>\n",
              "      <td>stockton, california, usa</td>\n",
              "      <td>18.0</td>\n",
              "      <td>USA</td>\n",
              "    </tr>\n",
              "    <tr>\n",
              "      <th>1</th>\n",
              "      <td>0002005018</td>\n",
              "      <td>Clara Callan</td>\n",
              "      <td>Richard Bruce Wright</td>\n",
              "      <td>2001.0</td>\n",
              "      <td>HarperFlamingo Canada</td>\n",
              "      <td>http://images.amazon.com/images/P/0002005018.0...</td>\n",
              "      <td>http://images.amazon.com/images/P/0002005018.0...</td>\n",
              "      <td>http://images.amazon.com/images/P/0002005018.0...</td>\n",
              "      <td>8</td>\n",
              "      <td>5</td>\n",
              "      <td>timmins, ontario, canada</td>\n",
              "      <td>NaN</td>\n",
              "      <td>CANADA</td>\n",
              "    </tr>\n",
              "    <tr>\n",
              "      <th>2</th>\n",
              "      <td>0060973129</td>\n",
              "      <td>Decision in Normandy</td>\n",
              "      <td>Carlo D'Este</td>\n",
              "      <td>1991.0</td>\n",
              "      <td>HarperPerennial</td>\n",
              "      <td>http://images.amazon.com/images/P/0060973129.0...</td>\n",
              "      <td>http://images.amazon.com/images/P/0060973129.0...</td>\n",
              "      <td>http://images.amazon.com/images/P/0060973129.0...</td>\n",
              "      <td>8</td>\n",
              "      <td>0</td>\n",
              "      <td>timmins, ontario, canada</td>\n",
              "      <td>NaN</td>\n",
              "      <td>CANADA</td>\n",
              "    </tr>\n",
              "    <tr>\n",
              "      <th>3</th>\n",
              "      <td>0374157065</td>\n",
              "      <td>Flu: The Story of the Great Influenza Pandemic...</td>\n",
              "      <td>Gina Bari Kolata</td>\n",
              "      <td>1999.0</td>\n",
              "      <td>Farrar Straus Giroux</td>\n",
              "      <td>http://images.amazon.com/images/P/0374157065.0...</td>\n",
              "      <td>http://images.amazon.com/images/P/0374157065.0...</td>\n",
              "      <td>http://images.amazon.com/images/P/0374157065.0...</td>\n",
              "      <td>8</td>\n",
              "      <td>0</td>\n",
              "      <td>timmins, ontario, canada</td>\n",
              "      <td>NaN</td>\n",
              "      <td>CANADA</td>\n",
              "    </tr>\n",
              "    <tr>\n",
              "      <th>4</th>\n",
              "      <td>0393045218</td>\n",
              "      <td>The Mummies of Urumchi</td>\n",
              "      <td>E. J. W. Barber</td>\n",
              "      <td>1999.0</td>\n",
              "      <td>W. W. Norton &amp;amp; Company</td>\n",
              "      <td>http://images.amazon.com/images/P/0393045218.0...</td>\n",
              "      <td>http://images.amazon.com/images/P/0393045218.0...</td>\n",
              "      <td>http://images.amazon.com/images/P/0393045218.0...</td>\n",
              "      <td>8</td>\n",
              "      <td>0</td>\n",
              "      <td>timmins, ontario, canada</td>\n",
              "      <td>NaN</td>\n",
              "      <td>CANADA</td>\n",
              "    </tr>\n",
              "  </tbody>\n",
              "</table>\n",
              "</div>"
            ],
            "text/plain": [
              "         ISBN                                         Book-Title  \\\n",
              "0  0195153448                                Classical Mythology   \n",
              "1  0002005018                                       Clara Callan   \n",
              "2  0060973129                               Decision in Normandy   \n",
              "3  0374157065  Flu: The Story of the Great Influenza Pandemic...   \n",
              "4  0393045218                             The Mummies of Urumchi   \n",
              "\n",
              "            Book-Author  Year-Of-Publication                   Publisher  \\\n",
              "0    Mark P. O. Morford               2002.0     Oxford University Press   \n",
              "1  Richard Bruce Wright               2001.0       HarperFlamingo Canada   \n",
              "2          Carlo D'Este               1991.0             HarperPerennial   \n",
              "3      Gina Bari Kolata               1999.0        Farrar Straus Giroux   \n",
              "4       E. J. W. Barber               1999.0  W. W. Norton &amp; Company   \n",
              "\n",
              "                                         Image-URL-S  \\\n",
              "0  http://images.amazon.com/images/P/0195153448.0...   \n",
              "1  http://images.amazon.com/images/P/0002005018.0...   \n",
              "2  http://images.amazon.com/images/P/0060973129.0...   \n",
              "3  http://images.amazon.com/images/P/0374157065.0...   \n",
              "4  http://images.amazon.com/images/P/0393045218.0...   \n",
              "\n",
              "                                         Image-URL-M  \\\n",
              "0  http://images.amazon.com/images/P/0195153448.0...   \n",
              "1  http://images.amazon.com/images/P/0002005018.0...   \n",
              "2  http://images.amazon.com/images/P/0060973129.0...   \n",
              "3  http://images.amazon.com/images/P/0374157065.0...   \n",
              "4  http://images.amazon.com/images/P/0393045218.0...   \n",
              "\n",
              "                                         Image-URL-L  User-ID  Book-Rating  \\\n",
              "0  http://images.amazon.com/images/P/0195153448.0...        2            0   \n",
              "1  http://images.amazon.com/images/P/0002005018.0...        8            5   \n",
              "2  http://images.amazon.com/images/P/0060973129.0...        8            0   \n",
              "3  http://images.amazon.com/images/P/0374157065.0...        8            0   \n",
              "4  http://images.amazon.com/images/P/0393045218.0...        8            0   \n",
              "\n",
              "                    Location   Age     Pais  \n",
              "0  stockton, california, usa  18.0      USA  \n",
              "1   timmins, ontario, canada   NaN   CANADA  \n",
              "2   timmins, ontario, canada   NaN   CANADA  \n",
              "3   timmins, ontario, canada   NaN   CANADA  \n",
              "4   timmins, ontario, canada   NaN   CANADA  "
            ]
          },
          "execution_count": 16,
          "metadata": {},
          "output_type": "execute_result"
        }
      ],
      "source": [
        "# Técnica de tratamento de texto\n",
        "def Extrair_Pais( Regiao ):\n",
        "  '''\n",
        "    Função para extrair o nome do pais na coluna região\n",
        "  '''\n",
        "  # Incluindo a inforção\n",
        "  Registro = Regiao\n",
        "  # Fatiar\n",
        "  Registro = Regiao.split(',')\n",
        "  # Buscar\n",
        "  Fracao = Registro[-1].upper()\n",
        "  #Retorno\n",
        "  return Fracao\n",
        "\n",
        "# Criando a coluna\n",
        "Tab_Cruzada['Pais'] = Tab_Cruzada['Location'].apply( Extrair_Pais )\n",
        "\n",
        "# Verificando\n",
        "Tab_Cruzada.head()"
      ]
    },
    {
      "cell_type": "code",
      "execution_count": 17,
      "metadata": {
        "colab": {
          "base_uri": "https://localhost:8080/"
        },
        "id": "d8ikN75r8Ntb",
        "outputId": "a2c96683-c084-4cab-fc0c-b4839e44411a"
      },
      "outputs": [
        {
          "data": {
            "text/plain": [
              "ISBN                        0\n",
              "Book-Title                  0\n",
              "Book-Author                 1\n",
              "Year-Of-Publication         4\n",
              "Publisher                   2\n",
              "Image-URL-S                 0\n",
              "Image-URL-M                 0\n",
              "Image-URL-L                 4\n",
              "User-ID                     0\n",
              "Book-Rating                 0\n",
              "Location                    0\n",
              "Age                    277835\n",
              "Pais                        0\n",
              "dtype: int64"
            ]
          },
          "execution_count": 17,
          "metadata": {},
          "output_type": "execute_result"
        }
      ],
      "source": [
        "# Nulos\n",
        "Tab_Cruzada.isnull().sum()"
      ]
    },
    {
      "cell_type": "code",
      "execution_count": 18,
      "metadata": {
        "colab": {
          "base_uri": "https://localhost:8080/"
        },
        "id": "ttOjfKMN9A_9",
        "outputId": "d1d5a94a-2294-4354-84d8-82c70f75b8af"
      },
      "outputs": [
        {
          "data": {
            "text/plain": [
              "ISBN                   270151\n",
              "Book-Title             241071\n",
              "Book-Author            101588\n",
              "Year-Of-Publication       116\n",
              "Publisher               16729\n",
              "Image-URL-S            269842\n",
              "Image-URL-M            269842\n",
              "Image-URL-L            269839\n",
              "User-ID                 92106\n",
              "Book-Rating                11\n",
              "Location                22480\n",
              "Age                       141\n",
              "Pais                      288\n",
              "dtype: int64"
            ]
          },
          "execution_count": 18,
          "metadata": {},
          "output_type": "execute_result"
        }
      ],
      "source": [
        "# Unicos\n",
        "Tab_Cruzada.nunique()"
      ]
    },
    {
      "cell_type": "code",
      "execution_count": 19,
      "metadata": {
        "colab": {
          "base_uri": "https://localhost:8080/"
        },
        "id": "qq6o8FwW9LsE",
        "outputId": "221d0758-2fa2-472c-c657-7fa6d8029352"
      },
      "outputs": [
        {
          "data": {
            "text/plain": [
              "Index(['ISBN', 'Titulo', 'Autor', 'Ano_Publicacao', 'Editora', 'Image-URL-S',\n",
              "       'Image-URL-M', 'Image-URL-L', 'Id_Cliente', 'Avaliacao', 'Localizacao',\n",
              "       'Idade', 'Pais'],\n",
              "      dtype='object')"
            ]
          },
          "execution_count": 19,
          "metadata": {},
          "output_type": "execute_result"
        }
      ],
      "source": [
        "# Renomear as colunas\n",
        "Tab_Cruzada.rename(\n",
        "    columns={\n",
        "        'Book-Title' : 'Titulo',\n",
        "        'Book-Author' : 'Autor',\n",
        "        'Year-Of-Publication' : 'Ano_Publicacao',\n",
        "        'Publisher' : 'Editora',\n",
        "        'User-ID' :'Id_Cliente',\n",
        "        'Book-Rating' : 'Avaliacao',\n",
        "        'Location' : 'Localizacao',\n",
        "        'Age' : 'Idade'\n",
        "    }, inplace=True\n",
        ")\n",
        "\n",
        "# Verificar\n",
        "Tab_Cruzada.columns"
      ]
    },
    {
      "cell_type": "markdown",
      "metadata": {
        "id": "nASZMDB2-bsz"
      },
      "source": [
        "# **Data Visualization - Exploração**"
      ]
    },
    {
      "cell_type": "code",
      "execution_count": 20,
      "metadata": {
        "colab": {
          "base_uri": "https://localhost:8080/",
          "height": 300
        },
        "id": "vmmdtaK5-JG6",
        "outputId": "e37713da-8616-4d39-93fb-0df590985575"
      },
      "outputs": [
        {
          "data": {
            "text/html": [
              "<div>\n",
              "<style scoped>\n",
              "    .dataframe tbody tr th:only-of-type {\n",
              "        vertical-align: middle;\n",
              "    }\n",
              "\n",
              "    .dataframe tbody tr th {\n",
              "        vertical-align: top;\n",
              "    }\n",
              "\n",
              "    .dataframe thead th {\n",
              "        text-align: right;\n",
              "    }\n",
              "</style>\n",
              "<table border=\"1\" class=\"dataframe\">\n",
              "  <thead>\n",
              "    <tr style=\"text-align: right;\">\n",
              "      <th></th>\n",
              "      <th>Ano_Publicacao</th>\n",
              "      <th>Id_Cliente</th>\n",
              "      <th>Avaliacao</th>\n",
              "      <th>Idade</th>\n",
              "    </tr>\n",
              "  </thead>\n",
              "  <tbody>\n",
              "    <tr>\n",
              "      <th>count</th>\n",
              "      <td>1.031132e+06</td>\n",
              "      <td>1.031136e+06</td>\n",
              "      <td>1.031136e+06</td>\n",
              "      <td>753301.000000</td>\n",
              "    </tr>\n",
              "    <tr>\n",
              "      <th>mean</th>\n",
              "      <td>1.968195e+03</td>\n",
              "      <td>1.405945e+05</td>\n",
              "      <td>2.839051e+00</td>\n",
              "      <td>37.397648</td>\n",
              "    </tr>\n",
              "    <tr>\n",
              "      <th>std</th>\n",
              "      <td>2.311015e+02</td>\n",
              "      <td>8.052466e+04</td>\n",
              "      <td>3.854157e+00</td>\n",
              "      <td>14.098254</td>\n",
              "    </tr>\n",
              "    <tr>\n",
              "      <th>min</th>\n",
              "      <td>0.000000e+00</td>\n",
              "      <td>2.000000e+00</td>\n",
              "      <td>0.000000e+00</td>\n",
              "      <td>0.000000</td>\n",
              "    </tr>\n",
              "    <tr>\n",
              "      <th>25%</th>\n",
              "      <td>1.992000e+03</td>\n",
              "      <td>7.041500e+04</td>\n",
              "      <td>0.000000e+00</td>\n",
              "      <td>28.000000</td>\n",
              "    </tr>\n",
              "    <tr>\n",
              "      <th>50%</th>\n",
              "      <td>1.997000e+03</td>\n",
              "      <td>1.412100e+05</td>\n",
              "      <td>0.000000e+00</td>\n",
              "      <td>35.000000</td>\n",
              "    </tr>\n",
              "    <tr>\n",
              "      <th>75%</th>\n",
              "      <td>2.001000e+03</td>\n",
              "      <td>2.114260e+05</td>\n",
              "      <td>7.000000e+00</td>\n",
              "      <td>45.000000</td>\n",
              "    </tr>\n",
              "    <tr>\n",
              "      <th>max</th>\n",
              "      <td>2.050000e+03</td>\n",
              "      <td>2.788540e+05</td>\n",
              "      <td>1.000000e+01</td>\n",
              "      <td>244.000000</td>\n",
              "    </tr>\n",
              "  </tbody>\n",
              "</table>\n",
              "</div>"
            ],
            "text/plain": [
              "       Ano_Publicacao    Id_Cliente     Avaliacao          Idade\n",
              "count    1.031132e+06  1.031136e+06  1.031136e+06  753301.000000\n",
              "mean     1.968195e+03  1.405945e+05  2.839051e+00      37.397648\n",
              "std      2.311015e+02  8.052466e+04  3.854157e+00      14.098254\n",
              "min      0.000000e+00  2.000000e+00  0.000000e+00       0.000000\n",
              "25%      1.992000e+03  7.041500e+04  0.000000e+00      28.000000\n",
              "50%      1.997000e+03  1.412100e+05  0.000000e+00      35.000000\n",
              "75%      2.001000e+03  2.114260e+05  7.000000e+00      45.000000\n",
              "max      2.050000e+03  2.788540e+05  1.000000e+01     244.000000"
            ]
          },
          "execution_count": 20,
          "metadata": {},
          "output_type": "execute_result"
        }
      ],
      "source": [
        "# Analise descritiva\n",
        "Tab_Cruzada.describe()"
      ]
    },
    {
      "cell_type": "code",
      "execution_count": 21,
      "metadata": {
        "colab": {
          "base_uri": "https://localhost:8080/"
        },
        "id": "F_ij1r_U_N5o",
        "outputId": "3188bbfd-7ca8-4da6-b88d-e5293fc53981"
      },
      "outputs": [
        {
          "data": {
            "text/plain": [
              "(ISBN                   0\n",
              " Titulo                 0\n",
              " Autor                  1\n",
              " Ano_Publicacao         1\n",
              " Editora                2\n",
              " Image-URL-S            0\n",
              " Image-URL-M            0\n",
              " Image-URL-L            1\n",
              " Id_Cliente             0\n",
              " Avaliacao              0\n",
              " Localizacao            0\n",
              " Idade             114221\n",
              " Pais                   0\n",
              " dtype: int64,\n",
              " (383842, 13))"
            ]
          },
          "execution_count": 21,
          "metadata": {},
          "output_type": "execute_result"
        }
      ],
      "source": [
        "# Remover as avaliações zeradas\n",
        "Tab_Cruzada = Tab_Cruzada.loc[ Tab_Cruzada['Avaliacao'] > 0 ]\n",
        "\n",
        "# Verificar\n",
        "Tab_Cruzada.isnull().sum(), Tab_Cruzada.shape"
      ]
    },
    {
      "cell_type": "code",
      "execution_count": 22,
      "metadata": {
        "colab": {
          "base_uri": "https://localhost:8080/"
        },
        "id": "1qPeba6C_wHM",
        "outputId": "c076313c-34c8-4e31-fb58-a60110183685"
      },
      "outputs": [
        {
          "data": {
            "text/plain": [
              "count    383842.000000\n",
              "mean          7.626701\n",
              "std           1.841339\n",
              "min           1.000000\n",
              "25%           7.000000\n",
              "50%           8.000000\n",
              "75%           9.000000\n",
              "max          10.000000\n",
              "Name: Avaliacao, dtype: float64"
            ]
          },
          "execution_count": 22,
          "metadata": {},
          "output_type": "execute_result"
        }
      ],
      "source": [
        "# Verificar\n",
        "Tab_Cruzada['Avaliacao'].describe()"
      ]
    },
    {
      "cell_type": "code",
      "execution_count": 23,
      "metadata": {
        "colab": {
          "base_uri": "https://localhost:8080/",
          "height": 400
        },
        "id": "oQTQ3SUG_6zW",
        "outputId": "e109a253-7e08-4c30-ac1d-5f073aded852"
      },
      "outputs": [],
      "source": [
        "# Analise grafica\n",
        "# plt.title('Analisando a avaliação')\n",
        "# sns.boxplot( data=Tab_Cruzada, x='Avaliacao');"
      ]
    },
    {
      "cell_type": "code",
      "execution_count": 24,
      "metadata": {
        "colab": {
          "base_uri": "https://localhost:8080/",
          "height": 237
        },
        "id": "wRV6pE04AaOj",
        "outputId": "dd1845fd-d891-4d89-e8b7-dbdc7b6c520e"
      },
      "outputs": [
        {
          "data": {
            "text/html": [
              "<div>\n",
              "<style scoped>\n",
              "    .dataframe tbody tr th:only-of-type {\n",
              "        vertical-align: middle;\n",
              "    }\n",
              "\n",
              "    .dataframe tbody tr th {\n",
              "        vertical-align: top;\n",
              "    }\n",
              "\n",
              "    .dataframe thead th {\n",
              "        text-align: right;\n",
              "    }\n",
              "</style>\n",
              "<table border=\"1\" class=\"dataframe\">\n",
              "  <thead>\n",
              "    <tr style=\"text-align: right;\">\n",
              "      <th></th>\n",
              "      <th>Quantidade</th>\n",
              "      <th>Media</th>\n",
              "      <th>Max</th>\n",
              "      <th>Min</th>\n",
              "      <th>Mediana</th>\n",
              "    </tr>\n",
              "    <tr>\n",
              "      <th>Titulo</th>\n",
              "      <th></th>\n",
              "      <th></th>\n",
              "      <th></th>\n",
              "      <th></th>\n",
              "      <th></th>\n",
              "    </tr>\n",
              "  </thead>\n",
              "  <tbody>\n",
              "    <tr>\n",
              "      <th>A Light in the Storm: The Civil War Diary of Amelia Martin, Fenwick Island, Delaware, 1861 (Dear America)</th>\n",
              "      <td>1</td>\n",
              "      <td>9.000000</td>\n",
              "      <td>9</td>\n",
              "      <td>9</td>\n",
              "      <td>9.0</td>\n",
              "    </tr>\n",
              "    <tr>\n",
              "      <th>Ask Lily (Young Women of Faith: Lily Series, Book 5)</th>\n",
              "      <td>1</td>\n",
              "      <td>8.000000</td>\n",
              "      <td>8</td>\n",
              "      <td>8</td>\n",
              "      <td>8.0</td>\n",
              "    </tr>\n",
              "    <tr>\n",
              "      <th>Dark Justice</th>\n",
              "      <td>1</td>\n",
              "      <td>10.000000</td>\n",
              "      <td>10</td>\n",
              "      <td>10</td>\n",
              "      <td>10.0</td>\n",
              "    </tr>\n",
              "    <tr>\n",
              "      <th>Earth Prayers From around the World: 365 Prayers, Poems, and Invocations for Honoring the Earth</th>\n",
              "      <td>7</td>\n",
              "      <td>7.142857</td>\n",
              "      <td>10</td>\n",
              "      <td>1</td>\n",
              "      <td>7.0</td>\n",
              "    </tr>\n",
              "    <tr>\n",
              "      <th>Final Fantasy Anthology: Official Strategy Guide (Brady Games)</th>\n",
              "      <td>2</td>\n",
              "      <td>10.000000</td>\n",
              "      <td>10</td>\n",
              "      <td>10</td>\n",
              "      <td>10.0</td>\n",
              "    </tr>\n",
              "  </tbody>\n",
              "</table>\n",
              "</div>"
            ],
            "text/plain": [
              "                                                    Quantidade      Media  \\\n",
              "Titulo                                                                      \n",
              " A Light in the Storm: The Civil War Diary of A...           1   9.000000   \n",
              " Ask Lily (Young Women of Faith: Lily Series, B...           1   8.000000   \n",
              " Dark Justice                                                1  10.000000   \n",
              " Earth Prayers From around the World: 365 Praye...           7   7.142857   \n",
              " Final Fantasy Anthology: Official Strategy Gui...           2  10.000000   \n",
              "\n",
              "                                                    Max  Min  Mediana  \n",
              "Titulo                                                                 \n",
              " A Light in the Storm: The Civil War Diary of A...    9    9      9.0  \n",
              " Ask Lily (Young Women of Faith: Lily Series, B...    8    8      8.0  \n",
              " Dark Justice                                        10   10     10.0  \n",
              " Earth Prayers From around the World: 365 Praye...   10    1      7.0  \n",
              " Final Fantasy Anthology: Official Strategy Gui...   10   10     10.0  "
            ]
          },
          "execution_count": 24,
          "metadata": {},
          "output_type": "execute_result"
        }
      ],
      "source": [
        "# Analise\n",
        "Analise = Tab_Cruzada.groupby( by=['Titulo'] ).agg(\n",
        "    Quantidade = ('Titulo', 'count'),\n",
        "    Media = ('Avaliacao', 'mean'),\n",
        "    Max = ('Avaliacao', 'max'),\n",
        "    Min = ('Avaliacao', 'min'),\n",
        "    Mediana = ('Avaliacao', 'median'),\n",
        ")\n",
        "\n",
        "# Verificando\n",
        "Analise.head()"
      ]
    },
    {
      "cell_type": "code",
      "execution_count": 25,
      "metadata": {
        "colab": {
          "base_uri": "https://localhost:8080/",
          "height": 237
        },
        "id": "Vwq95s3yBUiB",
        "outputId": "be39ce7e-712e-4fd1-e618-99b6f8b96a10"
      },
      "outputs": [
        {
          "data": {
            "text/html": [
              "<div>\n",
              "<style scoped>\n",
              "    .dataframe tbody tr th:only-of-type {\n",
              "        vertical-align: middle;\n",
              "    }\n",
              "\n",
              "    .dataframe tbody tr th {\n",
              "        vertical-align: top;\n",
              "    }\n",
              "\n",
              "    .dataframe thead th {\n",
              "        text-align: right;\n",
              "    }\n",
              "</style>\n",
              "<table border=\"1\" class=\"dataframe\">\n",
              "  <thead>\n",
              "    <tr style=\"text-align: right;\">\n",
              "      <th></th>\n",
              "      <th>Quantidade</th>\n",
              "      <th>Media</th>\n",
              "      <th>Max</th>\n",
              "      <th>Min</th>\n",
              "      <th>Mediana</th>\n",
              "    </tr>\n",
              "    <tr>\n",
              "      <th>Titulo</th>\n",
              "      <th></th>\n",
              "      <th></th>\n",
              "      <th></th>\n",
              "      <th></th>\n",
              "      <th></th>\n",
              "    </tr>\n",
              "  </thead>\n",
              "  <tbody>\n",
              "    <tr>\n",
              "      <th>The Lovely Bones: A Novel</th>\n",
              "      <td>707</td>\n",
              "      <td>8.185290</td>\n",
              "      <td>10</td>\n",
              "      <td>1</td>\n",
              "      <td>8.0</td>\n",
              "    </tr>\n",
              "    <tr>\n",
              "      <th>Wild Animus</th>\n",
              "      <td>581</td>\n",
              "      <td>4.390706</td>\n",
              "      <td>10</td>\n",
              "      <td>1</td>\n",
              "      <td>4.0</td>\n",
              "    </tr>\n",
              "    <tr>\n",
              "      <th>The Da Vinci Code</th>\n",
              "      <td>494</td>\n",
              "      <td>8.439271</td>\n",
              "      <td>10</td>\n",
              "      <td>1</td>\n",
              "      <td>9.0</td>\n",
              "    </tr>\n",
              "    <tr>\n",
              "      <th>The Secret Life of Bees</th>\n",
              "      <td>406</td>\n",
              "      <td>8.477833</td>\n",
              "      <td>10</td>\n",
              "      <td>2</td>\n",
              "      <td>9.0</td>\n",
              "    </tr>\n",
              "    <tr>\n",
              "      <th>The Nanny Diaries: A Novel</th>\n",
              "      <td>393</td>\n",
              "      <td>7.437659</td>\n",
              "      <td>10</td>\n",
              "      <td>1</td>\n",
              "      <td>8.0</td>\n",
              "    </tr>\n",
              "  </tbody>\n",
              "</table>\n",
              "</div>"
            ],
            "text/plain": [
              "                            Quantidade     Media  Max  Min  Mediana\n",
              "Titulo                                                             \n",
              "The Lovely Bones: A Novel          707  8.185290   10    1      8.0\n",
              "Wild Animus                        581  4.390706   10    1      4.0\n",
              "The Da Vinci Code                  494  8.439271   10    1      9.0\n",
              "The Secret Life of Bees            406  8.477833   10    2      9.0\n",
              "The Nanny Diaries: A Novel         393  7.437659   10    1      8.0"
            ]
          },
          "execution_count": 25,
          "metadata": {},
          "output_type": "execute_result"
        }
      ],
      "source": [
        "# Verificar\n",
        "Analise.sort_values('Quantidade', ascending=False ).head()"
      ]
    },
    {
      "cell_type": "code",
      "execution_count": 26,
      "metadata": {
        "colab": {
          "base_uri": "https://localhost:8080/",
          "height": 237
        },
        "id": "1_4tWggEBs0Z",
        "outputId": "e9a11301-3cec-4c59-f19b-278f2fe341aa"
      },
      "outputs": [
        {
          "data": {
            "text/html": [
              "<div>\n",
              "<style scoped>\n",
              "    .dataframe tbody tr th:only-of-type {\n",
              "        vertical-align: middle;\n",
              "    }\n",
              "\n",
              "    .dataframe tbody tr th {\n",
              "        vertical-align: top;\n",
              "    }\n",
              "\n",
              "    .dataframe thead th {\n",
              "        text-align: right;\n",
              "    }\n",
              "</style>\n",
              "<table border=\"1\" class=\"dataframe\">\n",
              "  <thead>\n",
              "    <tr style=\"text-align: right;\">\n",
              "      <th></th>\n",
              "      <th>Quantidade</th>\n",
              "      <th>Media</th>\n",
              "      <th>Max</th>\n",
              "      <th>Min</th>\n",
              "      <th>Mediana</th>\n",
              "    </tr>\n",
              "    <tr>\n",
              "      <th>Titulo</th>\n",
              "      <th></th>\n",
              "      <th></th>\n",
              "      <th></th>\n",
              "      <th></th>\n",
              "      <th></th>\n",
              "    </tr>\n",
              "  </thead>\n",
              "  <tbody>\n",
              "    <tr>\n",
              "      <th>Postmarked Yesteryear: 30 Rare Holiday Postcards</th>\n",
              "      <td>11</td>\n",
              "      <td>10.0</td>\n",
              "      <td>10</td>\n",
              "      <td>10</td>\n",
              "      <td>10.0</td>\n",
              "    </tr>\n",
              "    <tr>\n",
              "      <th>The Sneetches and Other Stories</th>\n",
              "      <td>8</td>\n",
              "      <td>10.0</td>\n",
              "      <td>10</td>\n",
              "      <td>10</td>\n",
              "      <td>10.0</td>\n",
              "    </tr>\n",
              "    <tr>\n",
              "      <th>Natural California: A Postcard Book</th>\n",
              "      <td>7</td>\n",
              "      <td>10.0</td>\n",
              "      <td>10</td>\n",
              "      <td>10</td>\n",
              "      <td>10.0</td>\n",
              "    </tr>\n",
              "    <tr>\n",
              "      <th>Uncle John's Supremely Satisfying Bathroom Reader (Uncle John's Bathroom Reader)</th>\n",
              "      <td>7</td>\n",
              "      <td>10.0</td>\n",
              "      <td>10</td>\n",
              "      <td>10</td>\n",
              "      <td>10.0</td>\n",
              "    </tr>\n",
              "    <tr>\n",
              "      <th>Oh, the Thinks You Can Think! (I Can Read It All by Myself Beginner Books)</th>\n",
              "      <td>6</td>\n",
              "      <td>10.0</td>\n",
              "      <td>10</td>\n",
              "      <td>10</td>\n",
              "      <td>10.0</td>\n",
              "    </tr>\n",
              "  </tbody>\n",
              "</table>\n",
              "</div>"
            ],
            "text/plain": [
              "                                                    Quantidade  Media  Max  \\\n",
              "Titulo                                                                       \n",
              "Postmarked Yesteryear: 30 Rare Holiday Postcards            11   10.0   10   \n",
              "The Sneetches and Other Stories                              8   10.0   10   \n",
              "Natural California: A Postcard Book                          7   10.0   10   \n",
              "Uncle John's Supremely Satisfying Bathroom Read...           7   10.0   10   \n",
              "Oh, the Thinks You Can Think! (I Can Read It Al...           6   10.0   10   \n",
              "\n",
              "                                                    Min  Mediana  \n",
              "Titulo                                                            \n",
              "Postmarked Yesteryear: 30 Rare Holiday Postcards     10     10.0  \n",
              "The Sneetches and Other Stories                      10     10.0  \n",
              "Natural California: A Postcard Book                  10     10.0  \n",
              "Uncle John's Supremely Satisfying Bathroom Read...   10     10.0  \n",
              "Oh, the Thinks You Can Think! (I Can Read It Al...   10     10.0  "
            ]
          },
          "execution_count": 26,
          "metadata": {},
          "output_type": "execute_result"
        }
      ],
      "source": [
        "# Vericar\n",
        "Analise.sort_values(['Media', 'Quantidade' ], ascending=False ).head()"
      ]
    },
    {
      "cell_type": "code",
      "execution_count": 27,
      "metadata": {
        "colab": {
          "base_uri": "https://localhost:8080/",
          "height": 542
        },
        "id": "hkJPJEauCGg8",
        "outputId": "05669d7b-07ff-409e-f4ec-525020d13e8e"
      },
      "outputs": [],
      "source": [
        "# Analise Qtd x Avaliacao\n",
        "\n",
        "# px.scatter(\n",
        "#     # Dados\n",
        "#     data_frame=Analise,\n",
        "#     # Parametros\n",
        "#     x='Quantidade', y='Media',\n",
        "#     # Titulo\n",
        "#     title='Média x Quantidade - Titulos',\n",
        "#     # Upgrade\n",
        "#     # marginal_y='rug', marginal_x='histogram'\n",
        "# )"
      ]
    },
    {
      "cell_type": "code",
      "execution_count": 28,
      "metadata": {
        "colab": {
          "base_uri": "https://localhost:8080/",
          "height": 206
        },
        "id": "Pxdm5JTuC5m8",
        "outputId": "ac28c541-79ce-4e0a-9d73-2530c0e81467"
      },
      "outputs": [
        {
          "data": {
            "text/html": [
              "<div>\n",
              "<style scoped>\n",
              "    .dataframe tbody tr th:only-of-type {\n",
              "        vertical-align: middle;\n",
              "    }\n",
              "\n",
              "    .dataframe tbody tr th {\n",
              "        vertical-align: top;\n",
              "    }\n",
              "\n",
              "    .dataframe thead th {\n",
              "        text-align: right;\n",
              "    }\n",
              "</style>\n",
              "<table border=\"1\" class=\"dataframe\">\n",
              "  <thead>\n",
              "    <tr style=\"text-align: right;\">\n",
              "      <th></th>\n",
              "      <th>Quantidade</th>\n",
              "      <th>Media</th>\n",
              "      <th>Max</th>\n",
              "      <th>Min</th>\n",
              "      <th>Mediana</th>\n",
              "    </tr>\n",
              "  </thead>\n",
              "  <tbody>\n",
              "    <tr>\n",
              "      <th>Quantidade</th>\n",
              "      <td>1.000000</td>\n",
              "      <td>0.018880</td>\n",
              "      <td>0.175572</td>\n",
              "      <td>-0.251497</td>\n",
              "      <td>0.036604</td>\n",
              "    </tr>\n",
              "    <tr>\n",
              "      <th>Media</th>\n",
              "      <td>0.018880</td>\n",
              "      <td>1.000000</td>\n",
              "      <td>0.889722</td>\n",
              "      <td>0.842385</td>\n",
              "      <td>0.989839</td>\n",
              "    </tr>\n",
              "    <tr>\n",
              "      <th>Max</th>\n",
              "      <td>0.175572</td>\n",
              "      <td>0.889722</td>\n",
              "      <td>1.000000</td>\n",
              "      <td>0.530760</td>\n",
              "      <td>0.887792</td>\n",
              "    </tr>\n",
              "    <tr>\n",
              "      <th>Min</th>\n",
              "      <td>-0.251497</td>\n",
              "      <td>0.842385</td>\n",
              "      <td>0.530760</td>\n",
              "      <td>1.000000</td>\n",
              "      <td>0.804023</td>\n",
              "    </tr>\n",
              "    <tr>\n",
              "      <th>Mediana</th>\n",
              "      <td>0.036604</td>\n",
              "      <td>0.989839</td>\n",
              "      <td>0.887792</td>\n",
              "      <td>0.804023</td>\n",
              "      <td>1.000000</td>\n",
              "    </tr>\n",
              "  </tbody>\n",
              "</table>\n",
              "</div>"
            ],
            "text/plain": [
              "            Quantidade     Media       Max       Min   Mediana\n",
              "Quantidade    1.000000  0.018880  0.175572 -0.251497  0.036604\n",
              "Media         0.018880  1.000000  0.889722  0.842385  0.989839\n",
              "Max           0.175572  0.889722  1.000000  0.530760  0.887792\n",
              "Min          -0.251497  0.842385  0.530760  1.000000  0.804023\n",
              "Mediana       0.036604  0.989839  0.887792  0.804023  1.000000"
            ]
          },
          "execution_count": 28,
          "metadata": {},
          "output_type": "execute_result"
        }
      ],
      "source": [
        "# Correlação\n",
        "Analise.corr()"
      ]
    },
    {
      "cell_type": "code",
      "execution_count": 29,
      "metadata": {
        "colab": {
          "base_uri": "https://localhost:8080/"
        },
        "id": "CoJC1aqLEVRH",
        "outputId": "f7fbf0ce-0dd3-4d98-8c59-b9c875aceeeb"
      },
      "outputs": [
        {
          "data": {
            "text/plain": [
              "count    135567.000000\n",
              "mean          2.831382\n",
              "std           9.135691\n",
              "min           1.000000\n",
              "25%           1.000000\n",
              "50%           1.000000\n",
              "75%           2.000000\n",
              "max         707.000000\n",
              "Name: Quantidade, dtype: float64"
            ]
          },
          "execution_count": 29,
          "metadata": {},
          "output_type": "execute_result"
        }
      ],
      "source": [
        "# Analise\n",
        "Analise['Quantidade'].describe()"
      ]
    },
    {
      "cell_type": "code",
      "execution_count": 30,
      "metadata": {
        "colab": {
          "base_uri": "https://localhost:8080/",
          "height": 542
        },
        "id": "84Rw4aM4Gztk",
        "outputId": "e383b71a-6b6f-400b-e10b-0ab24c5fe5f5"
      },
      "outputs": [],
      "source": [
        "# \n",
        "def Classificao_Quantidade( Quantidade ):\n",
        "  '''\n",
        "    Agrupar a quantidade\n",
        "  '''\n",
        "\n",
        "  if int( Quantidade ) <= 5:\n",
        "    return '1-5 Avaliações'\n",
        "\n",
        "  elif int( Quantidade) <=10:\n",
        "    return '6-10 Avaliações'\n",
        "\n",
        "  elif int(Quantidade) <= 50:\n",
        "    return '11-50 Avaliações'\n",
        "\n",
        "  elif int(Quantidade) <= 100:\n",
        "    return '51-100 Avaliações'\n",
        "\n",
        "  else:\n",
        "    return '>101 Avaliações'\n",
        "\n",
        "# Aplicação\n",
        "Pizza = Analise['Quantidade'].apply( Classificao_Quantidade ).value_counts( normalize=True )\n",
        "\n",
        "# Tranformar em um DataFrame\n",
        "# Pizza = pd.DataFrame( Pizza ).reset_index()\n",
        "\n",
        "# # Plot\n",
        "# px.pie( \n",
        "#     # DAdos\n",
        "#     data_frame=Pizza,\n",
        "#     # Paramewtros\n",
        "#     names='index', values='Quantidade',\n",
        "#     # Titulo\n",
        "#     title='Divisão das Quantidades'\n",
        "# )"
      ]
    },
    {
      "cell_type": "code",
      "execution_count": 31,
      "metadata": {
        "colab": {
          "base_uri": "https://localhost:8080/",
          "height": 206
        },
        "id": "GXcMl-2GHnpz",
        "outputId": "9ae4d72e-e864-47eb-a44d-f306e531627c"
      },
      "outputs": [
        {
          "data": {
            "text/plain": [
              "1-5 Avaliações       0.920010\n",
              "6-10 Avaliações     0.042783\n",
              "11-50 Avaliações     0.032589\n",
              "51-100 Avaliações    0.003201\n",
              ">101 Avaliações      0.001416\n",
              "Name: Quantidade, dtype: float64"
            ]
          },
          "execution_count": 31,
          "metadata": {},
          "output_type": "execute_result"
        }
      ],
      "source": [
        "# Verificando\n",
        "Pizza"
      ]
    },
    {
      "cell_type": "code",
      "execution_count": 32,
      "metadata": {
        "colab": {
          "base_uri": "https://localhost:8080/",
          "height": 300
        },
        "id": "7TblkbUHJKtV",
        "outputId": "d4e91273-7da4-44e5-fb5e-1924effe4955"
      },
      "outputs": [
        {
          "data": {
            "text/html": [
              "<div>\n",
              "<style scoped>\n",
              "    .dataframe tbody tr th:only-of-type {\n",
              "        vertical-align: middle;\n",
              "    }\n",
              "\n",
              "    .dataframe tbody tr th {\n",
              "        vertical-align: top;\n",
              "    }\n",
              "\n",
              "    .dataframe thead th {\n",
              "        text-align: right;\n",
              "    }\n",
              "</style>\n",
              "<table border=\"1\" class=\"dataframe\">\n",
              "  <thead>\n",
              "    <tr style=\"text-align: right;\">\n",
              "      <th></th>\n",
              "      <th>index</th>\n",
              "      <th>Ano_Publicacao</th>\n",
              "    </tr>\n",
              "  </thead>\n",
              "  <tbody>\n",
              "    <tr>\n",
              "      <th>count</th>\n",
              "      <td>105.000000</td>\n",
              "      <td>105.000000</td>\n",
              "    </tr>\n",
              "    <tr>\n",
              "      <th>mean</th>\n",
              "      <td>1934.028571</td>\n",
              "      <td>3655.628571</td>\n",
              "    </tr>\n",
              "    <tr>\n",
              "      <th>std</th>\n",
              "      <td>210.090432</td>\n",
              "      <td>8051.797181</td>\n",
              "    </tr>\n",
              "    <tr>\n",
              "      <th>min</th>\n",
              "      <td>0.000000</td>\n",
              "      <td>1.000000</td>\n",
              "    </tr>\n",
              "    <tr>\n",
              "      <th>25%</th>\n",
              "      <td>1937.000000</td>\n",
              "      <td>4.000000</td>\n",
              "    </tr>\n",
              "    <tr>\n",
              "      <th>50%</th>\n",
              "      <td>1963.000000</td>\n",
              "      <td>63.000000</td>\n",
              "    </tr>\n",
              "    <tr>\n",
              "      <th>75%</th>\n",
              "      <td>1989.000000</td>\n",
              "      <td>1652.000000</td>\n",
              "    </tr>\n",
              "    <tr>\n",
              "      <th>max</th>\n",
              "      <td>2050.000000</td>\n",
              "      <td>37986.000000</td>\n",
              "    </tr>\n",
              "  </tbody>\n",
              "</table>\n",
              "</div>"
            ],
            "text/plain": [
              "             index  Ano_Publicacao\n",
              "count   105.000000      105.000000\n",
              "mean   1934.028571     3655.628571\n",
              "std     210.090432     8051.797181\n",
              "min       0.000000        1.000000\n",
              "25%    1937.000000        4.000000\n",
              "50%    1963.000000       63.000000\n",
              "75%    1989.000000     1652.000000\n",
              "max    2050.000000    37986.000000"
            ]
          },
          "execution_count": 32,
          "metadata": {},
          "output_type": "execute_result"
        }
      ],
      "source": [
        "# Publicação\n",
        "Anlaise_Ano = Tab_Cruzada['Ano_Publicacao'].value_counts().sort_index().reset_index()\n",
        "\n",
        "# Verificando\n",
        "Anlaise_Ano.describe()"
      ]
    },
    {
      "cell_type": "code",
      "execution_count": 33,
      "metadata": {
        "colab": {
          "base_uri": "https://localhost:8080/",
          "height": 386
        },
        "id": "VjZJh_HlNvzD",
        "outputId": "fd3767d4-eb9c-4db5-8a26-30f040c1bd4b"
      },
      "outputs": [],
      "source": [
        "# Plot\n",
        "\n",
        "# Filtrando o ano\n",
        "Filtro = Anlaise_Ano.loc[ (Anlaise_Ano['index'] > 1990) & ( Anlaise_Ano['index'] < 2020 ) ]\n",
        "\n",
        "# # Plot\n",
        "# plt.title('Analisando ano de publicação')\n",
        "# plt.bar( Filtro['index'], Filtro['Ano_Publicacao'] );"
      ]
    },
    {
      "cell_type": "code",
      "execution_count": 34,
      "metadata": {
        "colab": {
          "base_uri": "https://localhost:8080/"
        },
        "id": "ias2aeuyPA9f",
        "outputId": "195c8670-881c-47e7-a857-7f7c4bf88277"
      },
      "outputs": [
        {
          "data": {
            "text/plain": [
              "Index(['ISBN', 'Titulo', 'Autor', 'Ano_Publicacao', 'Editora', 'Image-URL-S',\n",
              "       'Image-URL-M', 'Image-URL-L', 'Id_Cliente', 'Avaliacao', 'Localizacao',\n",
              "       'Idade', 'Pais'],\n",
              "      dtype='object')"
            ]
          },
          "execution_count": 34,
          "metadata": {},
          "output_type": "execute_result"
        }
      ],
      "source": [
        "Tab_Cruzada.columns"
      ]
    },
    {
      "cell_type": "code",
      "execution_count": 35,
      "metadata": {
        "colab": {
          "base_uri": "https://localhost:8080/",
          "height": 394
        },
        "id": "fweQwRCZOKb-",
        "outputId": "7e1185dc-be17-4251-fe2d-6362a9446b7b"
      },
      "outputs": [
        {
          "data": {
            "text/html": [
              "<div>\n",
              "<style scoped>\n",
              "    .dataframe tbody tr th:only-of-type {\n",
              "        vertical-align: middle;\n",
              "    }\n",
              "\n",
              "    .dataframe tbody tr th {\n",
              "        vertical-align: top;\n",
              "    }\n",
              "\n",
              "    .dataframe thead th {\n",
              "        text-align: right;\n",
              "    }\n",
              "</style>\n",
              "<table border=\"1\" class=\"dataframe\">\n",
              "  <thead>\n",
              "    <tr style=\"text-align: right;\">\n",
              "      <th></th>\n",
              "      <th>Quantidade</th>\n",
              "      <th>Media</th>\n",
              "    </tr>\n",
              "    <tr>\n",
              "      <th>Autor</th>\n",
              "      <th></th>\n",
              "      <th></th>\n",
              "    </tr>\n",
              "  </thead>\n",
              "  <tbody>\n",
              "    <tr>\n",
              "      <th>Stephen King</th>\n",
              "      <td>4639</td>\n",
              "      <td>7.815046</td>\n",
              "    </tr>\n",
              "    <tr>\n",
              "      <th>Nora Roberts</th>\n",
              "      <td>2938</td>\n",
              "      <td>7.629680</td>\n",
              "    </tr>\n",
              "    <tr>\n",
              "      <th>John Grisham</th>\n",
              "      <td>2550</td>\n",
              "      <td>7.523137</td>\n",
              "    </tr>\n",
              "    <tr>\n",
              "      <th>James Patterson</th>\n",
              "      <td>2387</td>\n",
              "      <td>7.697947</td>\n",
              "    </tr>\n",
              "    <tr>\n",
              "      <th>J. K. Rowling</th>\n",
              "      <td>1746</td>\n",
              "      <td>8.970218</td>\n",
              "    </tr>\n",
              "    <tr>\n",
              "      <th>Mary Higgins Clark</th>\n",
              "      <td>1677</td>\n",
              "      <td>7.503280</td>\n",
              "    </tr>\n",
              "    <tr>\n",
              "      <th>Janet Evanovich</th>\n",
              "      <td>1490</td>\n",
              "      <td>7.944966</td>\n",
              "    </tr>\n",
              "    <tr>\n",
              "      <th>Dean R. Koontz</th>\n",
              "      <td>1475</td>\n",
              "      <td>7.572203</td>\n",
              "    </tr>\n",
              "    <tr>\n",
              "      <th>Anne Rice</th>\n",
              "      <td>1245</td>\n",
              "      <td>7.387952</td>\n",
              "    </tr>\n",
              "    <tr>\n",
              "      <th>Sue Grafton</th>\n",
              "      <td>1235</td>\n",
              "      <td>7.722267</td>\n",
              "    </tr>\n",
              "  </tbody>\n",
              "</table>\n",
              "</div>"
            ],
            "text/plain": [
              "                    Quantidade     Media\n",
              "Autor                                   \n",
              "Stephen King              4639  7.815046\n",
              "Nora Roberts              2938  7.629680\n",
              "John Grisham              2550  7.523137\n",
              "James Patterson           2387  7.697947\n",
              "J. K. Rowling             1746  8.970218\n",
              "Mary Higgins Clark        1677  7.503280\n",
              "Janet Evanovich           1490  7.944966\n",
              "Dean R. Koontz            1475  7.572203\n",
              "Anne Rice                 1245  7.387952\n",
              "Sue Grafton               1235  7.722267"
            ]
          },
          "execution_count": 35,
          "metadata": {},
          "output_type": "execute_result"
        }
      ],
      "source": [
        "# Ranikg dos Autores\n",
        "Tab_Cruzada.groupby( by='Autor' ).agg(\n",
        "    Quantidade = ('Avaliacao', 'count'),\n",
        "    Media = ('Avaliacao', 'mean'),\n",
        ").sort_values('Quantidade', ascending=False ).head(10)"
      ]
    },
    {
      "cell_type": "code",
      "execution_count": 36,
      "metadata": {
        "colab": {
          "base_uri": "https://localhost:8080/"
        },
        "id": "D1KX-138PMRG",
        "outputId": "ac32b7d6-226e-4dd5-cdcf-806ccbeeab3b"
      },
      "outputs": [
        {
          "data": {
            "text/plain": [
              " USA               68.378135\n",
              " CANADA             9.267876\n",
              " UNITED KINGDOM     3.854190\n",
              " GERMANY            3.165625\n",
              "                    2.737845\n",
              " SPAIN              1.874990\n",
              " AUSTRALIA          1.821322\n",
              " N/A                1.811943\n",
              " FRANCE             1.207789\n",
              " PORTUGAL           0.897505\n",
              "Name: Pais, dtype: float64"
            ]
          },
          "execution_count": 36,
          "metadata": {},
          "output_type": "execute_result"
        }
      ],
      "source": [
        "# Concetração das avaliações\n",
        "Tab_Cruzada['Pais'].value_counts( normalize=True ).head(10) * 100"
      ]
    },
    {
      "cell_type": "code",
      "execution_count": 37,
      "metadata": {
        "colab": {
          "base_uri": "https://localhost:8080/"
        },
        "id": "d9u9ddodPnh-",
        "outputId": "5ffa4a68-fa0a-41a9-f2fe-46af46ae776d"
      },
      "outputs": [
        {
          "data": {
            "text/plain": [
              " USA               68.378135\n",
              " CANADA            77.646011\n",
              " UNITED KINGDOM    81.500201\n",
              " GERMANY           84.665826\n",
              "                   87.403671\n",
              " SPAIN             89.278662\n",
              " AUSTRALIA         91.099984\n",
              " N/A               92.911927\n",
              " FRANCE            94.119716\n",
              " PORTUGAL          95.017221\n",
              "Name: Pais, dtype: float64"
            ]
          },
          "execution_count": 37,
          "metadata": {},
          "output_type": "execute_result"
        }
      ],
      "source": [
        "# Concetração das avaliações\n",
        "Tab_Cruzada['Pais'].value_counts( normalize=True ).cumsum().head(10) * 100"
      ]
    },
    {
      "cell_type": "code",
      "execution_count": 38,
      "metadata": {
        "colab": {
          "base_uri": "https://localhost:8080/",
          "height": 400
        },
        "id": "SQqSHDXqP3LJ",
        "outputId": "d64df28d-4a26-4639-a2f3-c05a00c7450a"
      },
      "outputs": [],
      "source": [
        "# Idade\n",
        "# plt.title('Análise das idades')\n",
        "# sns.boxplot( data=Tab_Cruzada, x='Idade' );"
      ]
    },
    {
      "cell_type": "markdown",
      "metadata": {
        "id": "27pRirpsR0NL"
      },
      "source": [
        "# **Construção do Modelo**"
      ]
    },
    {
      "cell_type": "code",
      "execution_count": 39,
      "metadata": {
        "colab": {
          "base_uri": "https://localhost:8080/",
          "height": 444
        },
        "id": "2CewZShrQgS5",
        "outputId": "e1daccb5-7e90-4a1f-c0c4-00f2b8dda5d3"
      },
      "outputs": [
        {
          "data": {
            "text/html": [
              "<div>\n",
              "<style scoped>\n",
              "    .dataframe tbody tr th:only-of-type {\n",
              "        vertical-align: middle;\n",
              "    }\n",
              "\n",
              "    .dataframe tbody tr th {\n",
              "        vertical-align: top;\n",
              "    }\n",
              "\n",
              "    .dataframe thead th {\n",
              "        text-align: right;\n",
              "    }\n",
              "</style>\n",
              "<table border=\"1\" class=\"dataframe\">\n",
              "  <thead>\n",
              "    <tr style=\"text-align: right;\">\n",
              "      <th></th>\n",
              "      <th>ISBN</th>\n",
              "      <th>Titulo</th>\n",
              "      <th>Autor</th>\n",
              "      <th>Ano_Publicacao</th>\n",
              "      <th>Editora</th>\n",
              "      <th>Image-URL-S</th>\n",
              "      <th>Image-URL-M</th>\n",
              "      <th>Image-URL-L</th>\n",
              "      <th>Id_Cliente</th>\n",
              "      <th>Avaliacao</th>\n",
              "      <th>Localizacao</th>\n",
              "      <th>Idade</th>\n",
              "      <th>Pais</th>\n",
              "      <th>Quantidade</th>\n",
              "    </tr>\n",
              "  </thead>\n",
              "  <tbody>\n",
              "    <tr>\n",
              "      <th>0</th>\n",
              "      <td>0002005018</td>\n",
              "      <td>Clara Callan</td>\n",
              "      <td>Richard Bruce Wright</td>\n",
              "      <td>2001.0</td>\n",
              "      <td>HarperFlamingo Canada</td>\n",
              "      <td>http://images.amazon.com/images/P/0002005018.0...</td>\n",
              "      <td>http://images.amazon.com/images/P/0002005018.0...</td>\n",
              "      <td>http://images.amazon.com/images/P/0002005018.0...</td>\n",
              "      <td>8</td>\n",
              "      <td>5</td>\n",
              "      <td>timmins, ontario, canada</td>\n",
              "      <td>NaN</td>\n",
              "      <td>CANADA</td>\n",
              "      <td>9</td>\n",
              "    </tr>\n",
              "    <tr>\n",
              "      <th>1</th>\n",
              "      <td>0002005018</td>\n",
              "      <td>Clara Callan</td>\n",
              "      <td>Richard Bruce Wright</td>\n",
              "      <td>2001.0</td>\n",
              "      <td>HarperFlamingo Canada</td>\n",
              "      <td>http://images.amazon.com/images/P/0002005018.0...</td>\n",
              "      <td>http://images.amazon.com/images/P/0002005018.0...</td>\n",
              "      <td>http://images.amazon.com/images/P/0002005018.0...</td>\n",
              "      <td>11676</td>\n",
              "      <td>8</td>\n",
              "      <td>n/a, n/a, n/a</td>\n",
              "      <td>NaN</td>\n",
              "      <td>N/A</td>\n",
              "      <td>9</td>\n",
              "    </tr>\n",
              "    <tr>\n",
              "      <th>2</th>\n",
              "      <td>0002005018</td>\n",
              "      <td>Clara Callan</td>\n",
              "      <td>Richard Bruce Wright</td>\n",
              "      <td>2001.0</td>\n",
              "      <td>HarperFlamingo Canada</td>\n",
              "      <td>http://images.amazon.com/images/P/0002005018.0...</td>\n",
              "      <td>http://images.amazon.com/images/P/0002005018.0...</td>\n",
              "      <td>http://images.amazon.com/images/P/0002005018.0...</td>\n",
              "      <td>67544</td>\n",
              "      <td>8</td>\n",
              "      <td>toronto, ontario, canada</td>\n",
              "      <td>30.0</td>\n",
              "      <td>CANADA</td>\n",
              "      <td>9</td>\n",
              "    </tr>\n",
              "    <tr>\n",
              "      <th>3</th>\n",
              "      <td>0002005018</td>\n",
              "      <td>Clara Callan</td>\n",
              "      <td>Richard Bruce Wright</td>\n",
              "      <td>2001.0</td>\n",
              "      <td>HarperFlamingo Canada</td>\n",
              "      <td>http://images.amazon.com/images/P/0002005018.0...</td>\n",
              "      <td>http://images.amazon.com/images/P/0002005018.0...</td>\n",
              "      <td>http://images.amazon.com/images/P/0002005018.0...</td>\n",
              "      <td>116866</td>\n",
              "      <td>9</td>\n",
              "      <td>ottawa, ,</td>\n",
              "      <td>NaN</td>\n",
              "      <td></td>\n",
              "      <td>9</td>\n",
              "    </tr>\n",
              "    <tr>\n",
              "      <th>4</th>\n",
              "      <td>0002005018</td>\n",
              "      <td>Clara Callan</td>\n",
              "      <td>Richard Bruce Wright</td>\n",
              "      <td>2001.0</td>\n",
              "      <td>HarperFlamingo Canada</td>\n",
              "      <td>http://images.amazon.com/images/P/0002005018.0...</td>\n",
              "      <td>http://images.amazon.com/images/P/0002005018.0...</td>\n",
              "      <td>http://images.amazon.com/images/P/0002005018.0...</td>\n",
              "      <td>123629</td>\n",
              "      <td>9</td>\n",
              "      <td>kingston, ontario, canada</td>\n",
              "      <td>NaN</td>\n",
              "      <td>CANADA</td>\n",
              "      <td>9</td>\n",
              "    </tr>\n",
              "  </tbody>\n",
              "</table>\n",
              "</div>"
            ],
            "text/plain": [
              "         ISBN        Titulo                 Autor  Ano_Publicacao  \\\n",
              "0  0002005018  Clara Callan  Richard Bruce Wright          2001.0   \n",
              "1  0002005018  Clara Callan  Richard Bruce Wright          2001.0   \n",
              "2  0002005018  Clara Callan  Richard Bruce Wright          2001.0   \n",
              "3  0002005018  Clara Callan  Richard Bruce Wright          2001.0   \n",
              "4  0002005018  Clara Callan  Richard Bruce Wright          2001.0   \n",
              "\n",
              "                 Editora                                        Image-URL-S  \\\n",
              "0  HarperFlamingo Canada  http://images.amazon.com/images/P/0002005018.0...   \n",
              "1  HarperFlamingo Canada  http://images.amazon.com/images/P/0002005018.0...   \n",
              "2  HarperFlamingo Canada  http://images.amazon.com/images/P/0002005018.0...   \n",
              "3  HarperFlamingo Canada  http://images.amazon.com/images/P/0002005018.0...   \n",
              "4  HarperFlamingo Canada  http://images.amazon.com/images/P/0002005018.0...   \n",
              "\n",
              "                                         Image-URL-M  \\\n",
              "0  http://images.amazon.com/images/P/0002005018.0...   \n",
              "1  http://images.amazon.com/images/P/0002005018.0...   \n",
              "2  http://images.amazon.com/images/P/0002005018.0...   \n",
              "3  http://images.amazon.com/images/P/0002005018.0...   \n",
              "4  http://images.amazon.com/images/P/0002005018.0...   \n",
              "\n",
              "                                         Image-URL-L  Id_Cliente  Avaliacao  \\\n",
              "0  http://images.amazon.com/images/P/0002005018.0...           8          5   \n",
              "1  http://images.amazon.com/images/P/0002005018.0...       11676          8   \n",
              "2  http://images.amazon.com/images/P/0002005018.0...       67544          8   \n",
              "3  http://images.amazon.com/images/P/0002005018.0...      116866          9   \n",
              "4  http://images.amazon.com/images/P/0002005018.0...      123629          9   \n",
              "\n",
              "                 Localizacao  Idade     Pais  Quantidade  \n",
              "0   timmins, ontario, canada    NaN   CANADA           9  \n",
              "1              n/a, n/a, n/a    NaN      N/A           9  \n",
              "2   toronto, ontario, canada   30.0   CANADA           9  \n",
              "3                  ottawa, ,    NaN                    9  \n",
              "4  kingston, ontario, canada    NaN   CANADA           9  "
            ]
          },
          "execution_count": 39,
          "metadata": {},
          "output_type": "execute_result"
        }
      ],
      "source": [
        "# Ajustar ( Avaliação dos Livros --> Tab_Cruzada )\n",
        "\n",
        "# Ajustando a Tabela de Avaliacoes\n",
        "Avaliacoes = Analise.reset_index().iloc[:, 0:2]\n",
        "\n",
        "# Cruzando os dados\n",
        "Tab_Final = Tab_Cruzada.merge( Avaliacoes, how='inner', on='Titulo' )\n",
        "\n",
        "# VErificando\n",
        "Tab_Final.head()"
      ]
    },
    {
      "cell_type": "code",
      "execution_count": 40,
      "metadata": {
        "colab": {
          "base_uri": "https://localhost:8080/"
        },
        "id": "SvJ8BmtkR-r-",
        "outputId": "83d3be6b-08d9-44a9-f3d4-e9b1f3ce55ca"
      },
      "outputs": [
        {
          "data": {
            "text/plain": [
              "(65477, 14)"
            ]
          },
          "execution_count": 40,
          "metadata": {},
          "output_type": "execute_result"
        }
      ],
      "source": [
        "# Filtrar\n",
        "Livros_Avaliados = Tab_Final.loc[ Tab_Final['Quantidade'] >= 50 ]\n",
        "\n",
        "# Dimensao\n",
        "Livros_Avaliados.shape"
      ]
    },
    {
      "cell_type": "code",
      "execution_count": 41,
      "metadata": {
        "colab": {
          "base_uri": "https://localhost:8080/"
        },
        "id": "GvCMhjnxSP28",
        "outputId": "6b976682-a8ce-4e30-d8c7-c52dc733c268"
      },
      "outputs": [
        {
          "data": {
            "text/plain": [
              "0"
            ]
          },
          "execution_count": 41,
          "metadata": {},
          "output_type": "execute_result"
        }
      ],
      "source": [
        "# Duplicados\n",
        "Livros_Avaliados.duplicated().sum()"
      ]
    },
    {
      "cell_type": "code",
      "execution_count": 42,
      "metadata": {
        "colab": {
          "base_uri": "https://localhost:8080/",
          "height": 366
        },
        "id": "NwVg3wDETetf",
        "outputId": "0f4a5b50-c60b-4fd7-d44d-8b51a9531843"
      },
      "outputs": [
        {
          "data": {
            "text/html": [
              "<div>\n",
              "<style scoped>\n",
              "    .dataframe tbody tr th:only-of-type {\n",
              "        vertical-align: middle;\n",
              "    }\n",
              "\n",
              "    .dataframe tbody tr th {\n",
              "        vertical-align: top;\n",
              "    }\n",
              "\n",
              "    .dataframe thead th {\n",
              "        text-align: right;\n",
              "    }\n",
              "</style>\n",
              "<table border=\"1\" class=\"dataframe\">\n",
              "  <thead>\n",
              "    <tr style=\"text-align: right;\">\n",
              "      <th>Id_Cliente</th>\n",
              "      <th>9</th>\n",
              "      <th>16</th>\n",
              "      <th>26</th>\n",
              "      <th>32</th>\n",
              "      <th>42</th>\n",
              "      <th>51</th>\n",
              "      <th>91</th>\n",
              "      <th>97</th>\n",
              "      <th>99</th>\n",
              "      <th>114</th>\n",
              "      <th>125</th>\n",
              "      <th>165</th>\n",
              "      <th>169</th>\n",
              "      <th>183</th>\n",
              "      <th>185</th>\n",
              "      <th>224</th>\n",
              "      <th>226</th>\n",
              "      <th>242</th>\n",
              "      <th>243</th>\n",
              "      <th>244</th>\n",
              "      <th>254</th>\n",
              "      <th>256</th>\n",
              "      <th>272</th>\n",
              "      <th>280</th>\n",
              "      <th>332</th>\n",
              "      <th>...</th>\n",
              "      <th>278633</th>\n",
              "      <th>278641</th>\n",
              "      <th>278645</th>\n",
              "      <th>278653</th>\n",
              "      <th>278663</th>\n",
              "      <th>278672</th>\n",
              "      <th>278683</th>\n",
              "      <th>278698</th>\n",
              "      <th>278723</th>\n",
              "      <th>278732</th>\n",
              "      <th>278740</th>\n",
              "      <th>278755</th>\n",
              "      <th>278773</th>\n",
              "      <th>278786</th>\n",
              "      <th>278798</th>\n",
              "      <th>278800</th>\n",
              "      <th>278807</th>\n",
              "      <th>278824</th>\n",
              "      <th>278828</th>\n",
              "      <th>278832</th>\n",
              "      <th>278836</th>\n",
              "      <th>278843</th>\n",
              "      <th>278844</th>\n",
              "      <th>278846</th>\n",
              "      <th>278854</th>\n",
              "    </tr>\n",
              "    <tr>\n",
              "      <th>Titulo</th>\n",
              "      <th></th>\n",
              "      <th></th>\n",
              "      <th></th>\n",
              "      <th></th>\n",
              "      <th></th>\n",
              "      <th></th>\n",
              "      <th></th>\n",
              "      <th></th>\n",
              "      <th></th>\n",
              "      <th></th>\n",
              "      <th></th>\n",
              "      <th></th>\n",
              "      <th></th>\n",
              "      <th></th>\n",
              "      <th></th>\n",
              "      <th></th>\n",
              "      <th></th>\n",
              "      <th></th>\n",
              "      <th></th>\n",
              "      <th></th>\n",
              "      <th></th>\n",
              "      <th></th>\n",
              "      <th></th>\n",
              "      <th></th>\n",
              "      <th></th>\n",
              "      <th></th>\n",
              "      <th></th>\n",
              "      <th></th>\n",
              "      <th></th>\n",
              "      <th></th>\n",
              "      <th></th>\n",
              "      <th></th>\n",
              "      <th></th>\n",
              "      <th></th>\n",
              "      <th></th>\n",
              "      <th></th>\n",
              "      <th></th>\n",
              "      <th></th>\n",
              "      <th></th>\n",
              "      <th></th>\n",
              "      <th></th>\n",
              "      <th></th>\n",
              "      <th></th>\n",
              "      <th></th>\n",
              "      <th></th>\n",
              "      <th></th>\n",
              "      <th></th>\n",
              "      <th></th>\n",
              "      <th></th>\n",
              "      <th></th>\n",
              "      <th></th>\n",
              "    </tr>\n",
              "  </thead>\n",
              "  <tbody>\n",
              "    <tr>\n",
              "      <th>1984</th>\n",
              "      <td>0.0</td>\n",
              "      <td>0.0</td>\n",
              "      <td>0.0</td>\n",
              "      <td>0.0</td>\n",
              "      <td>0.0</td>\n",
              "      <td>0.0</td>\n",
              "      <td>0.0</td>\n",
              "      <td>0.0</td>\n",
              "      <td>0.0</td>\n",
              "      <td>0.0</td>\n",
              "      <td>0.0</td>\n",
              "      <td>0.0</td>\n",
              "      <td>0.0</td>\n",
              "      <td>0.0</td>\n",
              "      <td>0.0</td>\n",
              "      <td>0.0</td>\n",
              "      <td>0.0</td>\n",
              "      <td>0.0</td>\n",
              "      <td>0.0</td>\n",
              "      <td>0.0</td>\n",
              "      <td>9.0</td>\n",
              "      <td>0.0</td>\n",
              "      <td>0.0</td>\n",
              "      <td>0.0</td>\n",
              "      <td>0.0</td>\n",
              "      <td>...</td>\n",
              "      <td>0.0</td>\n",
              "      <td>0.0</td>\n",
              "      <td>0.0</td>\n",
              "      <td>0.0</td>\n",
              "      <td>0.0</td>\n",
              "      <td>0.0</td>\n",
              "      <td>0.0</td>\n",
              "      <td>0.0</td>\n",
              "      <td>0.0</td>\n",
              "      <td>0.0</td>\n",
              "      <td>0.0</td>\n",
              "      <td>0.0</td>\n",
              "      <td>0.0</td>\n",
              "      <td>0.0</td>\n",
              "      <td>0.0</td>\n",
              "      <td>0.0</td>\n",
              "      <td>0.0</td>\n",
              "      <td>0.0</td>\n",
              "      <td>0.0</td>\n",
              "      <td>0.0</td>\n",
              "      <td>0.0</td>\n",
              "      <td>0.0</td>\n",
              "      <td>0.0</td>\n",
              "      <td>0.0</td>\n",
              "      <td>0.0</td>\n",
              "    </tr>\n",
              "    <tr>\n",
              "      <th>1st to Die: A Novel</th>\n",
              "      <td>0.0</td>\n",
              "      <td>0.0</td>\n",
              "      <td>0.0</td>\n",
              "      <td>0.0</td>\n",
              "      <td>0.0</td>\n",
              "      <td>0.0</td>\n",
              "      <td>0.0</td>\n",
              "      <td>0.0</td>\n",
              "      <td>0.0</td>\n",
              "      <td>0.0</td>\n",
              "      <td>0.0</td>\n",
              "      <td>0.0</td>\n",
              "      <td>0.0</td>\n",
              "      <td>0.0</td>\n",
              "      <td>0.0</td>\n",
              "      <td>0.0</td>\n",
              "      <td>0.0</td>\n",
              "      <td>0.0</td>\n",
              "      <td>0.0</td>\n",
              "      <td>0.0</td>\n",
              "      <td>0.0</td>\n",
              "      <td>0.0</td>\n",
              "      <td>0.0</td>\n",
              "      <td>0.0</td>\n",
              "      <td>0.0</td>\n",
              "      <td>...</td>\n",
              "      <td>0.0</td>\n",
              "      <td>0.0</td>\n",
              "      <td>0.0</td>\n",
              "      <td>0.0</td>\n",
              "      <td>0.0</td>\n",
              "      <td>0.0</td>\n",
              "      <td>0.0</td>\n",
              "      <td>0.0</td>\n",
              "      <td>0.0</td>\n",
              "      <td>0.0</td>\n",
              "      <td>0.0</td>\n",
              "      <td>0.0</td>\n",
              "      <td>0.0</td>\n",
              "      <td>0.0</td>\n",
              "      <td>0.0</td>\n",
              "      <td>0.0</td>\n",
              "      <td>0.0</td>\n",
              "      <td>0.0</td>\n",
              "      <td>0.0</td>\n",
              "      <td>0.0</td>\n",
              "      <td>0.0</td>\n",
              "      <td>0.0</td>\n",
              "      <td>0.0</td>\n",
              "      <td>0.0</td>\n",
              "      <td>0.0</td>\n",
              "    </tr>\n",
              "    <tr>\n",
              "      <th>2nd Chance</th>\n",
              "      <td>0.0</td>\n",
              "      <td>0.0</td>\n",
              "      <td>0.0</td>\n",
              "      <td>0.0</td>\n",
              "      <td>0.0</td>\n",
              "      <td>0.0</td>\n",
              "      <td>0.0</td>\n",
              "      <td>0.0</td>\n",
              "      <td>0.0</td>\n",
              "      <td>0.0</td>\n",
              "      <td>0.0</td>\n",
              "      <td>0.0</td>\n",
              "      <td>0.0</td>\n",
              "      <td>0.0</td>\n",
              "      <td>0.0</td>\n",
              "      <td>0.0</td>\n",
              "      <td>0.0</td>\n",
              "      <td>0.0</td>\n",
              "      <td>0.0</td>\n",
              "      <td>0.0</td>\n",
              "      <td>0.0</td>\n",
              "      <td>0.0</td>\n",
              "      <td>0.0</td>\n",
              "      <td>0.0</td>\n",
              "      <td>0.0</td>\n",
              "      <td>...</td>\n",
              "      <td>0.0</td>\n",
              "      <td>0.0</td>\n",
              "      <td>0.0</td>\n",
              "      <td>0.0</td>\n",
              "      <td>0.0</td>\n",
              "      <td>0.0</td>\n",
              "      <td>0.0</td>\n",
              "      <td>0.0</td>\n",
              "      <td>0.0</td>\n",
              "      <td>0.0</td>\n",
              "      <td>0.0</td>\n",
              "      <td>0.0</td>\n",
              "      <td>0.0</td>\n",
              "      <td>0.0</td>\n",
              "      <td>0.0</td>\n",
              "      <td>0.0</td>\n",
              "      <td>0.0</td>\n",
              "      <td>0.0</td>\n",
              "      <td>0.0</td>\n",
              "      <td>0.0</td>\n",
              "      <td>0.0</td>\n",
              "      <td>0.0</td>\n",
              "      <td>0.0</td>\n",
              "      <td>0.0</td>\n",
              "      <td>0.0</td>\n",
              "    </tr>\n",
              "    <tr>\n",
              "      <th>4 Blondes</th>\n",
              "      <td>0.0</td>\n",
              "      <td>0.0</td>\n",
              "      <td>0.0</td>\n",
              "      <td>0.0</td>\n",
              "      <td>0.0</td>\n",
              "      <td>0.0</td>\n",
              "      <td>0.0</td>\n",
              "      <td>0.0</td>\n",
              "      <td>0.0</td>\n",
              "      <td>0.0</td>\n",
              "      <td>0.0</td>\n",
              "      <td>0.0</td>\n",
              "      <td>0.0</td>\n",
              "      <td>0.0</td>\n",
              "      <td>0.0</td>\n",
              "      <td>0.0</td>\n",
              "      <td>0.0</td>\n",
              "      <td>0.0</td>\n",
              "      <td>0.0</td>\n",
              "      <td>0.0</td>\n",
              "      <td>0.0</td>\n",
              "      <td>0.0</td>\n",
              "      <td>0.0</td>\n",
              "      <td>0.0</td>\n",
              "      <td>0.0</td>\n",
              "      <td>...</td>\n",
              "      <td>0.0</td>\n",
              "      <td>0.0</td>\n",
              "      <td>0.0</td>\n",
              "      <td>0.0</td>\n",
              "      <td>0.0</td>\n",
              "      <td>0.0</td>\n",
              "      <td>0.0</td>\n",
              "      <td>0.0</td>\n",
              "      <td>0.0</td>\n",
              "      <td>0.0</td>\n",
              "      <td>0.0</td>\n",
              "      <td>0.0</td>\n",
              "      <td>0.0</td>\n",
              "      <td>0.0</td>\n",
              "      <td>0.0</td>\n",
              "      <td>0.0</td>\n",
              "      <td>0.0</td>\n",
              "      <td>0.0</td>\n",
              "      <td>0.0</td>\n",
              "      <td>0.0</td>\n",
              "      <td>0.0</td>\n",
              "      <td>0.0</td>\n",
              "      <td>0.0</td>\n",
              "      <td>0.0</td>\n",
              "      <td>0.0</td>\n",
              "    </tr>\n",
              "    <tr>\n",
              "      <th>84 Charing Cross Road</th>\n",
              "      <td>0.0</td>\n",
              "      <td>0.0</td>\n",
              "      <td>0.0</td>\n",
              "      <td>0.0</td>\n",
              "      <td>0.0</td>\n",
              "      <td>0.0</td>\n",
              "      <td>0.0</td>\n",
              "      <td>0.0</td>\n",
              "      <td>0.0</td>\n",
              "      <td>0.0</td>\n",
              "      <td>0.0</td>\n",
              "      <td>0.0</td>\n",
              "      <td>0.0</td>\n",
              "      <td>0.0</td>\n",
              "      <td>0.0</td>\n",
              "      <td>0.0</td>\n",
              "      <td>0.0</td>\n",
              "      <td>0.0</td>\n",
              "      <td>0.0</td>\n",
              "      <td>0.0</td>\n",
              "      <td>0.0</td>\n",
              "      <td>0.0</td>\n",
              "      <td>0.0</td>\n",
              "      <td>0.0</td>\n",
              "      <td>0.0</td>\n",
              "      <td>...</td>\n",
              "      <td>0.0</td>\n",
              "      <td>0.0</td>\n",
              "      <td>0.0</td>\n",
              "      <td>0.0</td>\n",
              "      <td>0.0</td>\n",
              "      <td>0.0</td>\n",
              "      <td>0.0</td>\n",
              "      <td>0.0</td>\n",
              "      <td>0.0</td>\n",
              "      <td>0.0</td>\n",
              "      <td>0.0</td>\n",
              "      <td>0.0</td>\n",
              "      <td>0.0</td>\n",
              "      <td>0.0</td>\n",
              "      <td>0.0</td>\n",
              "      <td>0.0</td>\n",
              "      <td>0.0</td>\n",
              "      <td>0.0</td>\n",
              "      <td>0.0</td>\n",
              "      <td>0.0</td>\n",
              "      <td>0.0</td>\n",
              "      <td>0.0</td>\n",
              "      <td>0.0</td>\n",
              "      <td>0.0</td>\n",
              "      <td>0.0</td>\n",
              "    </tr>\n",
              "  </tbody>\n",
              "</table>\n",
              "<p>5 rows × 24863 columns</p>\n",
              "</div>"
            ],
            "text/plain": [
              "Id_Cliente             9       16      26      32      42      51      91      \\\n",
              "Titulo                                                                          \n",
              "1984                      0.0     0.0     0.0     0.0     0.0     0.0     0.0   \n",
              "1st to Die: A Novel       0.0     0.0     0.0     0.0     0.0     0.0     0.0   \n",
              "2nd Chance                0.0     0.0     0.0     0.0     0.0     0.0     0.0   \n",
              "4 Blondes                 0.0     0.0     0.0     0.0     0.0     0.0     0.0   \n",
              "84 Charing Cross Road     0.0     0.0     0.0     0.0     0.0     0.0     0.0   \n",
              "\n",
              "Id_Cliente             97      99      114     125     165     169     183     \\\n",
              "Titulo                                                                          \n",
              "1984                      0.0     0.0     0.0     0.0     0.0     0.0     0.0   \n",
              "1st to Die: A Novel       0.0     0.0     0.0     0.0     0.0     0.0     0.0   \n",
              "2nd Chance                0.0     0.0     0.0     0.0     0.0     0.0     0.0   \n",
              "4 Blondes                 0.0     0.0     0.0     0.0     0.0     0.0     0.0   \n",
              "84 Charing Cross Road     0.0     0.0     0.0     0.0     0.0     0.0     0.0   \n",
              "\n",
              "Id_Cliente             185     224     226     242     243     244     254     \\\n",
              "Titulo                                                                          \n",
              "1984                      0.0     0.0     0.0     0.0     0.0     0.0     9.0   \n",
              "1st to Die: A Novel       0.0     0.0     0.0     0.0     0.0     0.0     0.0   \n",
              "2nd Chance                0.0     0.0     0.0     0.0     0.0     0.0     0.0   \n",
              "4 Blondes                 0.0     0.0     0.0     0.0     0.0     0.0     0.0   \n",
              "84 Charing Cross Road     0.0     0.0     0.0     0.0     0.0     0.0     0.0   \n",
              "\n",
              "Id_Cliente             256     272     280     332     ...  278633  278641  \\\n",
              "Titulo                                                 ...                   \n",
              "1984                      0.0     0.0     0.0     0.0  ...     0.0     0.0   \n",
              "1st to Die: A Novel       0.0     0.0     0.0     0.0  ...     0.0     0.0   \n",
              "2nd Chance                0.0     0.0     0.0     0.0  ...     0.0     0.0   \n",
              "4 Blondes                 0.0     0.0     0.0     0.0  ...     0.0     0.0   \n",
              "84 Charing Cross Road     0.0     0.0     0.0     0.0  ...     0.0     0.0   \n",
              "\n",
              "Id_Cliente             278645  278653  278663  278672  278683  278698  278723  \\\n",
              "Titulo                                                                          \n",
              "1984                      0.0     0.0     0.0     0.0     0.0     0.0     0.0   \n",
              "1st to Die: A Novel       0.0     0.0     0.0     0.0     0.0     0.0     0.0   \n",
              "2nd Chance                0.0     0.0     0.0     0.0     0.0     0.0     0.0   \n",
              "4 Blondes                 0.0     0.0     0.0     0.0     0.0     0.0     0.0   \n",
              "84 Charing Cross Road     0.0     0.0     0.0     0.0     0.0     0.0     0.0   \n",
              "\n",
              "Id_Cliente             278732  278740  278755  278773  278786  278798  278800  \\\n",
              "Titulo                                                                          \n",
              "1984                      0.0     0.0     0.0     0.0     0.0     0.0     0.0   \n",
              "1st to Die: A Novel       0.0     0.0     0.0     0.0     0.0     0.0     0.0   \n",
              "2nd Chance                0.0     0.0     0.0     0.0     0.0     0.0     0.0   \n",
              "4 Blondes                 0.0     0.0     0.0     0.0     0.0     0.0     0.0   \n",
              "84 Charing Cross Road     0.0     0.0     0.0     0.0     0.0     0.0     0.0   \n",
              "\n",
              "Id_Cliente             278807  278824  278828  278832  278836  278843  278844  \\\n",
              "Titulo                                                                          \n",
              "1984                      0.0     0.0     0.0     0.0     0.0     0.0     0.0   \n",
              "1st to Die: A Novel       0.0     0.0     0.0     0.0     0.0     0.0     0.0   \n",
              "2nd Chance                0.0     0.0     0.0     0.0     0.0     0.0     0.0   \n",
              "4 Blondes                 0.0     0.0     0.0     0.0     0.0     0.0     0.0   \n",
              "84 Charing Cross Road     0.0     0.0     0.0     0.0     0.0     0.0     0.0   \n",
              "\n",
              "Id_Cliente             278846  278854  \n",
              "Titulo                                 \n",
              "1984                      0.0     0.0  \n",
              "1st to Die: A Novel       0.0     0.0  \n",
              "2nd Chance                0.0     0.0  \n",
              "4 Blondes                 0.0     0.0  \n",
              "84 Charing Cross Road     0.0     0.0  \n",
              "\n",
              "[5 rows x 24863 columns]"
            ]
          },
          "execution_count": 42,
          "metadata": {},
          "output_type": "execute_result"
        }
      ],
      "source": [
        "# Gerar a Metriz \n",
        "Matriz = Livros_Avaliados.pivot_table( values='Avaliacao', index='Titulo', columns='Id_Cliente' )\n",
        "\n",
        "# Retirar os NAN\n",
        "Matriz.fillna( 0, inplace=True)\n",
        "\n",
        "# VErificar\n",
        "Matriz.head()"
      ]
    },
    {
      "cell_type": "code",
      "execution_count": 43,
      "metadata": {
        "colab": {
          "base_uri": "https://localhost:8080/",
          "height": 392
        },
        "id": "7LCFVceFUGCx",
        "outputId": "651c4da3-3267-47e6-9ee3-041cc976db1f"
      },
      "outputs": [
        {
          "data": {
            "text/html": [
              "<div>\n",
              "<style scoped>\n",
              "    .dataframe tbody tr th:only-of-type {\n",
              "        vertical-align: middle;\n",
              "    }\n",
              "\n",
              "    .dataframe tbody tr th {\n",
              "        vertical-align: top;\n",
              "    }\n",
              "\n",
              "    .dataframe thead th {\n",
              "        text-align: right;\n",
              "    }\n",
              "</style>\n",
              "<table border=\"1\" class=\"dataframe\">\n",
              "  <thead>\n",
              "    <tr style=\"text-align: right;\">\n",
              "      <th></th>\n",
              "      <th>ISBN</th>\n",
              "      <th>Titulo</th>\n",
              "      <th>Autor</th>\n",
              "      <th>Ano_Publicacao</th>\n",
              "      <th>Editora</th>\n",
              "      <th>Image-URL-S</th>\n",
              "      <th>Image-URL-M</th>\n",
              "      <th>Image-URL-L</th>\n",
              "      <th>Id_Cliente</th>\n",
              "      <th>Avaliacao</th>\n",
              "      <th>Localizacao</th>\n",
              "      <th>Idade</th>\n",
              "      <th>Pais</th>\n",
              "    </tr>\n",
              "  </thead>\n",
              "  <tbody>\n",
              "    <tr>\n",
              "      <th>2713</th>\n",
              "      <td>0452262933</td>\n",
              "      <td>1984</td>\n",
              "      <td>George Orwell</td>\n",
              "      <td>1983.0</td>\n",
              "      <td>Plume Books</td>\n",
              "      <td>http://images.amazon.com/images/P/0452262933.0...</td>\n",
              "      <td>http://images.amazon.com/images/P/0452262933.0...</td>\n",
              "      <td>http://images.amazon.com/images/P/0452262933.0...</td>\n",
              "      <td>11676</td>\n",
              "      <td>10</td>\n",
              "      <td>n/a, n/a, n/a</td>\n",
              "      <td>NaN</td>\n",
              "      <td>N/A</td>\n",
              "    </tr>\n",
              "    <tr>\n",
              "      <th>33641</th>\n",
              "      <td>0451519841</td>\n",
              "      <td>1984</td>\n",
              "      <td>George Orwell</td>\n",
              "      <td>1980.0</td>\n",
              "      <td>New Amer Library</td>\n",
              "      <td>http://images.amazon.com/images/P/0451519841.0...</td>\n",
              "      <td>http://images.amazon.com/images/P/0451519841.0...</td>\n",
              "      <td>http://images.amazon.com/images/P/0451519841.0...</td>\n",
              "      <td>7346</td>\n",
              "      <td>8</td>\n",
              "      <td>sunnyvale, california, usa</td>\n",
              "      <td>49.0</td>\n",
              "      <td>USA</td>\n",
              "    </tr>\n",
              "    <tr>\n",
              "      <th>36405</th>\n",
              "      <td>0451524934</td>\n",
              "      <td>1984</td>\n",
              "      <td>George Orwell</td>\n",
              "      <td>1990.0</td>\n",
              "      <td>Signet Book</td>\n",
              "      <td>http://images.amazon.com/images/P/0451524934.0...</td>\n",
              "      <td>http://images.amazon.com/images/P/0451524934.0...</td>\n",
              "      <td>http://images.amazon.com/images/P/0451524934.0...</td>\n",
              "      <td>16795</td>\n",
              "      <td>8</td>\n",
              "      <td>mechanicsville, maryland, usa</td>\n",
              "      <td>47.0</td>\n",
              "      <td>USA</td>\n",
              "    </tr>\n",
              "    <tr>\n",
              "      <th>106795</th>\n",
              "      <td>0451519841</td>\n",
              "      <td>1984</td>\n",
              "      <td>George Orwell</td>\n",
              "      <td>1980.0</td>\n",
              "      <td>New Amer Library</td>\n",
              "      <td>http://images.amazon.com/images/P/0451519841.0...</td>\n",
              "      <td>http://images.amazon.com/images/P/0451519841.0...</td>\n",
              "      <td>http://images.amazon.com/images/P/0451519841.0...</td>\n",
              "      <td>197364</td>\n",
              "      <td>8</td>\n",
              "      <td>cumming, georgia, usa</td>\n",
              "      <td>30.0</td>\n",
              "      <td>USA</td>\n",
              "    </tr>\n",
              "    <tr>\n",
              "      <th>129342</th>\n",
              "      <td>0451524934</td>\n",
              "      <td>1984</td>\n",
              "      <td>George Orwell</td>\n",
              "      <td>1990.0</td>\n",
              "      <td>Signet Book</td>\n",
              "      <td>http://images.amazon.com/images/P/0451524934.0...</td>\n",
              "      <td>http://images.amazon.com/images/P/0451524934.0...</td>\n",
              "      <td>http://images.amazon.com/images/P/0451524934.0...</td>\n",
              "      <td>240567</td>\n",
              "      <td>8</td>\n",
              "      <td>hawthorne, new jersey, usa</td>\n",
              "      <td>33.0</td>\n",
              "      <td>USA</td>\n",
              "    </tr>\n",
              "  </tbody>\n",
              "</table>\n",
              "</div>"
            ],
            "text/plain": [
              "              ISBN Titulo          Autor  Ano_Publicacao           Editora  \\\n",
              "2713    0452262933   1984  George Orwell          1983.0       Plume Books   \n",
              "33641   0451519841   1984  George Orwell          1980.0  New Amer Library   \n",
              "36405   0451524934   1984  George Orwell          1990.0       Signet Book   \n",
              "106795  0451519841   1984  George Orwell          1980.0  New Amer Library   \n",
              "129342  0451524934   1984  George Orwell          1990.0       Signet Book   \n",
              "\n",
              "                                              Image-URL-S  \\\n",
              "2713    http://images.amazon.com/images/P/0452262933.0...   \n",
              "33641   http://images.amazon.com/images/P/0451519841.0...   \n",
              "36405   http://images.amazon.com/images/P/0451524934.0...   \n",
              "106795  http://images.amazon.com/images/P/0451519841.0...   \n",
              "129342  http://images.amazon.com/images/P/0451524934.0...   \n",
              "\n",
              "                                              Image-URL-M  \\\n",
              "2713    http://images.amazon.com/images/P/0452262933.0...   \n",
              "33641   http://images.amazon.com/images/P/0451519841.0...   \n",
              "36405   http://images.amazon.com/images/P/0451524934.0...   \n",
              "106795  http://images.amazon.com/images/P/0451519841.0...   \n",
              "129342  http://images.amazon.com/images/P/0451524934.0...   \n",
              "\n",
              "                                              Image-URL-L  Id_Cliente  \\\n",
              "2713    http://images.amazon.com/images/P/0452262933.0...       11676   \n",
              "33641   http://images.amazon.com/images/P/0451519841.0...        7346   \n",
              "36405   http://images.amazon.com/images/P/0451524934.0...       16795   \n",
              "106795  http://images.amazon.com/images/P/0451519841.0...      197364   \n",
              "129342  http://images.amazon.com/images/P/0451524934.0...      240567   \n",
              "\n",
              "        Avaliacao                    Localizacao  Idade  Pais  \n",
              "2713           10                  n/a, n/a, n/a    NaN   N/A  \n",
              "33641           8     sunnyvale, california, usa   49.0   USA  \n",
              "36405           8  mechanicsville, maryland, usa   47.0   USA  \n",
              "106795          8          cumming, georgia, usa   30.0   USA  \n",
              "129342          8     hawthorne, new jersey, usa   33.0   USA  "
            ]
          },
          "execution_count": 43,
          "metadata": {},
          "output_type": "execute_result"
        }
      ],
      "source": [
        "# Verificando\n",
        "Tab_Cruzada.loc[ Tab_Cruzada['Titulo'] == '1984' ].head()"
      ]
    },
    {
      "cell_type": "code",
      "execution_count": 44,
      "metadata": {
        "colab": {
          "base_uri": "https://localhost:8080/"
        },
        "id": "ztguDPclUyxB",
        "outputId": "c0f603fb-976a-4254-cc6c-8b6a0da68c6e"
      },
      "outputs": [
        {
          "data": {
            "text/plain": [
              "<651x24863 sparse matrix of type '<class 'numpy.float64'>'\n",
              "\twith 65081 stored elements in Compressed Sparse Column format>"
            ]
          },
          "execution_count": 44,
          "metadata": {},
          "output_type": "execute_result"
        }
      ],
      "source": [
        "# Trnasformação para vetores\n",
        "from scipy.sparse import csc_matrix\n",
        "Matriz_Sparse = csc_matrix( Matriz )\n",
        "\n",
        "Matriz_Sparse"
      ]
    },
    {
      "cell_type": "code",
      "execution_count": 45,
      "metadata": {
        "colab": {
          "base_uri": "https://localhost:8080/"
        },
        "id": "9iduvlKwVSij",
        "outputId": "5400aa07-a77c-492e-e0b1-8078475d19fd"
      },
      "outputs": [
        {
          "data": {
            "text/plain": [
              "array([[0, 0, 0, 0],\n",
              "       [0, 0, 0, 0],\n",
              "       [0, 0, 0, 0],\n",
              "       [0, 0, 0, 0]], dtype=int8)"
            ]
          },
          "execution_count": 45,
          "metadata": {},
          "output_type": "execute_result"
        }
      ],
      "source": [
        "# Exemplo da função\n",
        "csc_matrix(  (4, 4), dtype=np.int8 ).toarray()"
      ]
    },
    {
      "cell_type": "code",
      "execution_count": 46,
      "metadata": {
        "colab": {
          "base_uri": "https://localhost:8080/"
        },
        "id": "-4Cmo6mCV0wu",
        "outputId": "68a6b198-36e2-4c76-be65-aa5a8241bd44"
      },
      "outputs": [
        {
          "data": {
            "text/plain": [
              "NearestNeighbors(algorithm='brute')"
            ]
          },
          "execution_count": 46,
          "metadata": {},
          "output_type": "execute_result"
        }
      ],
      "source": [
        "# Criar o Modelo\n",
        "from sklearn.neighbors import NearestNeighbors\n",
        "\n",
        "# Parametros\n",
        "Modelo = NearestNeighbors(\n",
        "    # Quantidade de recomendações\n",
        "    n_neighbors=5,\n",
        "    # Algoritmo\n",
        "    algorithm='brute',\n",
        "    # metrica de distancia\n",
        "    metric='minkowski'\n",
        ")\n",
        "\n",
        "# Fitar o modelo\n",
        "Modelo.fit( Matriz_Sparse )"
      ]
    },
    {
      "cell_type": "code",
      "execution_count": 47,
      "metadata": {
        "colab": {
          "base_uri": "https://localhost:8080/"
        },
        "id": "sRxkyJyNXB4W",
        "outputId": "5a46a088-2686-45c5-efb9-d91ac8d2ed11"
      },
      "outputs": [],
      "source": [
        "# Recomendações\n",
        "# Escolher_Livro\n",
        "\n",
        "# Descobrir Libros Harry\n",
        "for Posicao, Titulo in enumerate(Matriz.index):\n",
        "\n",
        "  # Harry\n",
        "  if 'Clara' in Titulo:\n",
        "    print( Posicao, Titulo )"
      ]
    },
    {
      "cell_type": "code",
      "execution_count": 48,
      "metadata": {
        "colab": {
          "base_uri": "https://localhost:8080/"
        },
        "id": "N2AlFd4GXuUs",
        "outputId": "9e346dfa-8933-4327-f47b-45341903fbe5"
      },
      "outputs": [
        {
          "name": "stdout",
          "output_type": "stream",
          "text": [
            "Index(['Harry Potter and the Prisoner of Azkaban (Book 3)',\n",
            "       'Harry Potter and the Goblet of Fire (Book 4)',\n",
            "       'Harry Potter and the Chamber of Secrets (Book 2)',\n",
            "       'Harry Potter and the Sorcerer's Stone (Book 1)', '4 Blondes'],\n",
            "      dtype='object', name='Titulo')\n"
          ]
        }
      ],
      "source": [
        "# Seleionando o Livro ##### CLIENTE COMPROU !!!!!! ######\n",
        "Selecionar_Livro = Matriz.iloc[ 216, :].values.reshape( 1, -1 )\n",
        "\n",
        "# Previsão do Modelo\n",
        "Distancia, Recomendacao = Modelo.kneighbors( Selecionar_Livro )\n",
        "\n",
        "## AVALIAÇAO / RENTABILIDADE /  SERIES / NOTICIAS\n",
        "\n",
        "#### RECOMENDAÇÔES ######\n",
        "# Ver as sugestões\n",
        "for Loop in range( len(Recomendacao) ):\n",
        "\n",
        "  print( Matriz.index[ Recomendacao[Loop] ] )"
      ]
    },
    {
      "cell_type": "code",
      "execution_count": 49,
      "metadata": {
        "colab": {
          "base_uri": "https://localhost:8080/"
        },
        "id": "YADzEnhxZeHU",
        "outputId": "06dfa697-784c-4cb1-e505-195a456f3514"
      },
      "outputs": [
        {
          "data": {
            "text/plain": [
              "array([[  0.        , 136.33964941, 150.46714296, 153.37372656,\n",
              "        156.98168683]])"
            ]
          },
          "execution_count": 49,
          "metadata": {},
          "output_type": "execute_result"
        }
      ],
      "source": [
        "Distancia"
      ]
    },
    {
      "cell_type": "markdown",
      "metadata": {
        "id": "OjaoPInn2PZb"
      },
      "source": [
        "# **Entendimento do Algoritmo**"
      ]
    },
    {
      "cell_type": "markdown",
      "metadata": {
        "id": "gIhy_xG-2Uzr"
      },
      "source": [
        "## **Tipos de Aprendizadoo**"
      ]
    },
    {
      "cell_type": "markdown",
      "metadata": {
        "id": "1lFRgdBw2NB0"
      },
      "source": [
        "![image.png](data:image/png;base64,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)"
      ]
    },
    {
      "cell_type": "markdown",
      "metadata": {
        "id": "QMSNrbO42eff"
      },
      "source": [
        "## **Distâncias**"
      ]
    },
    {
      "cell_type": "markdown",
      "metadata": {
        "id": "Hk-XToRu2ADl"
      },
      "source": [
        "![image.png](data:image/png;base64,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)"
      ]
    },
    {
      "cell_type": "markdown",
      "metadata": {
        "id": "qGqNySkr2guX"
      },
      "source": [
        "## **Algoritmos**"
      ]
    },
    {
      "cell_type": "markdown",
      "metadata": {
        "id": "if8FMLFs2E0z"
      },
      "source": [
        "![image.png](data:image/png;base64,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)"
      ]
    },
    {
      "cell_type": "markdown",
      "metadata": {
        "id": "JkxyxBBe66vR"
      },
      "source": [
        "# **Entedimento do Algoritmo**"
      ]
    },
    {
      "cell_type": "code",
      "execution_count": 50,
      "metadata": {
        "colab": {
          "base_uri": "https://localhost:8080/",
          "height": 237
        },
        "id": "asmzCmPyaCWj",
        "outputId": "fe8533dd-9610-493a-f431-b0934144c82c"
      },
      "outputs": [
        {
          "data": {
            "text/html": [
              "<div>\n",
              "<style scoped>\n",
              "    .dataframe tbody tr th:only-of-type {\n",
              "        vertical-align: middle;\n",
              "    }\n",
              "\n",
              "    .dataframe tbody tr th {\n",
              "        vertical-align: top;\n",
              "    }\n",
              "\n",
              "    .dataframe thead th {\n",
              "        text-align: right;\n",
              "    }\n",
              "</style>\n",
              "<table border=\"1\" class=\"dataframe\">\n",
              "  <thead>\n",
              "    <tr style=\"text-align: right;\">\n",
              "      <th></th>\n",
              "      <th>0</th>\n",
              "      <th>1</th>\n",
              "    </tr>\n",
              "  </thead>\n",
              "  <tbody>\n",
              "    <tr>\n",
              "      <th>0</th>\n",
              "      <td>5</td>\n",
              "      <td>5</td>\n",
              "    </tr>\n",
              "    <tr>\n",
              "      <th>1</th>\n",
              "      <td>4</td>\n",
              "      <td>3</td>\n",
              "    </tr>\n",
              "    <tr>\n",
              "      <th>2</th>\n",
              "      <td>8</td>\n",
              "      <td>2</td>\n",
              "    </tr>\n",
              "    <tr>\n",
              "      <th>3</th>\n",
              "      <td>5</td>\n",
              "      <td>8</td>\n",
              "    </tr>\n",
              "    <tr>\n",
              "      <th>4</th>\n",
              "      <td>6</td>\n",
              "      <td>5</td>\n",
              "    </tr>\n",
              "    <tr>\n",
              "      <th>5</th>\n",
              "      <td>2</td>\n",
              "      <td>1</td>\n",
              "    </tr>\n",
              "  </tbody>\n",
              "</table>\n",
              "</div>"
            ],
            "text/plain": [
              "   0  1\n",
              "0  5  5\n",
              "1  4  3\n",
              "2  8  2\n",
              "3  5  8\n",
              "4  6  5\n",
              "5  2  1"
            ]
          },
          "execution_count": 50,
          "metadata": {},
          "output_type": "execute_result"
        }
      ],
      "source": [
        "# Matriz\n",
        "Dados = np.array(\n",
        "    [\n",
        "        [5, 5],\n",
        "        [4, 3],\n",
        "        [8, 2],\n",
        "        [5, 8],\n",
        "        [6, 5],\n",
        "        [2, 1]\n",
        "    ]\n",
        ")\n",
        "\n",
        "# Tabela exemplo\n",
        "Tabela_Exemplo = pd.DataFrame( Dados )\n",
        "Tabela_Exemplo"
      ]
    },
    {
      "cell_type": "code",
      "execution_count": 62,
      "metadata": {
        "colab": {
          "base_uri": "https://localhost:8080/",
          "height": 400
        },
        "id": "14itiPhs7ZGH",
        "outputId": "692633d7-4778-464a-98f6-ccca2adba00b"
      },
      "outputs": [],
      "source": [
        "# # Plot\n",
        "# plt.title('Analise', loc='left')\n",
        "# sns.scatterplot( data=Tabela_Exemplo, x=0, y=1, s=300);"
      ]
    },
    {
      "cell_type": "code",
      "execution_count": 52,
      "metadata": {
        "colab": {
          "base_uri": "https://localhost:8080/"
        },
        "id": "EUgJr9uE7zK9",
        "outputId": "458e2c9f-c1a3-4c25-8538-478111cd6d4a"
      },
      "outputs": [
        {
          "data": {
            "text/plain": [
              "NearestNeighbors(metric='euclidean', n_neighbors=2)"
            ]
          },
          "execution_count": 52,
          "metadata": {},
          "output_type": "execute_result"
        }
      ],
      "source": [
        "# Treinar o modelo\n",
        "Modelo_Exemplo = NearestNeighbors( n_neighbors=2, metric='euclidean')\n",
        "Modelo_Exemplo.fit( Dados )"
      ]
    },
    {
      "cell_type": "code",
      "execution_count": 53,
      "metadata": {
        "colab": {
          "base_uri": "https://localhost:8080/"
        },
        "id": "uR-bNsoh8pSM",
        "outputId": "07c2a763-38c9-4d20-f967-ac7fd44711ce"
      },
      "outputs": [
        {
          "name": "stdout",
          "output_type": "stream",
          "text": [
            "[[1.41421356 2.23606798]]\n",
            "[[2 4]]\n"
          ]
        }
      ],
      "source": [
        "# Fazendo a recomendação\n",
        "Distancias, Indices = Modelo_Exemplo.kneighbors( [[7, 3]] )\n",
        "\n",
        "print( Distancias )\n",
        "print( Indices )"
      ]
    },
    {
      "cell_type": "code",
      "execution_count": 54,
      "metadata": {
        "colab": {
          "base_uri": "https://localhost:8080/",
          "height": 400
        },
        "id": "C15DY3v385z1",
        "outputId": "11cfed6b-02a4-499c-87bb-da563484a9a2"
      },
      "outputs": [
        {
          "data": {
            "image/png": "[encoded data removed]",
            "text/plain": [
              "<Figure size 1080x432 with 1 Axes>"
            ]
          },
          "metadata": {},
          "output_type": "display_data"
        }
      ],
      "source": [
        "# Plot\n",
        "plt.title('Analise compração', loc='left')\n",
        "sns.scatterplot( data=Tabela_Exemplo, x=0, y=1, s=300)\n",
        "\n",
        "Previsor = pd.DataFrame( [[7, 3]] )\n",
        "sns.scatterplot( data=Previsor, x=0, y=1, s=300)\n",
        "plt.legend(['Dados Reais', 'PRevisor']);"
      ]
    },
    {
      "cell_type": "markdown",
      "metadata": {
        "id": "ZePJSsfd-l7e"
      },
      "source": [
        "![image.png](data:image/png;base64,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)"
      ]
    },
    {
      "cell_type": "code",
      "execution_count": 55,
      "metadata": {
        "colab": {
          "base_uri": "https://localhost:8080/"
        },
        "id": "UF175BNb9jGX",
        "outputId": "95ab5209-2a30-40be-da37-72e37397ad04"
      },
      "outputs": [
        {
          "name": "stdout",
          "output_type": "stream",
          "text": [
            "5 5 Distâncias dos dados:  2.828427\n",
            "4 3 Distâncias dos dados:  3.0\n",
            "8 2 Distâncias dos dados:  1.414214\n",
            "5 8 Distâncias dos dados:  5.385165\n",
            "6 5 Distâncias dos dados:  2.236068\n",
            "2 1 Distâncias dos dados:  5.385165\n"
          ]
        }
      ],
      "source": [
        "# Calculo \n",
        "import math\n",
        "\n",
        "# Loop na base  de dados\n",
        "for Col1, Col2  in zip( Tabela_Exemplo[0], Tabela_Exemplo[1] ):\n",
        "\n",
        "  # Calculando distancia euclidiana\n",
        "  Distancia = math.sqrt( (( 7 - Col1 ) ** 2) + (( 3 - Col2 ) ** 2) )\n",
        "\n",
        "  print( Col1, Col2, 'Distâncias dos dados: ', round( Distancia, 6 ) )"
      ]
    },
    {
      "cell_type": "markdown",
      "metadata": {
        "id": "-F4_xCwPBoWz"
      },
      "source": [
        "# **Simulador**"
      ]
    },
    {
      "cell_type": "code",
      "execution_count": 56,
      "metadata": {
        "id": "sF6Sy-C0C39N"
      },
      "outputs": [],
      "source": [
        "# Frameworks\n",
        "# Plotar a imagem\n",
        "import PIL\n",
        "import urllib\n",
        "import requests\n",
        "import matplotlib.image as mpimg"
      ]
    },
    {
      "cell_type": "code",
      "execution_count": 63,
      "metadata": {
        "colab": {
          "base_uri": "https://localhost:8080/",
          "height": 517
        },
        "id": "JLEZjUfq_HYQ",
        "outputId": "417a5865-0001-47d8-8c69-46a0eb821d83"
      },
      "outputs": [],
      "source": [
        "# Filtrando o link da capa do Harry poter\n",
        "Link = Tab_Cruzada.loc[Tab_Cruzada['Titulo'] == '4 Blondes'].head(1)[\n",
        "    'Image-URL-L'].values[0]\n",
        "\n",
        "# Buscar as informações\n",
        "Imagem = PIL.Image.open( urllib.request.urlopen( Link ) )\n",
        "\n",
        "# Imagem"
      ]
    },
    {
      "cell_type": "code",
      "execution_count": 58,
      "metadata": {
        "id": "Gx4aY5nzF0SZ"
      },
      "outputs": [],
      "source": [
        "# Lista para receber os links das recomendações\n",
        "Lista_URL = []\n",
        "\n",
        "# Loop nas recomendações\n",
        "for Loop in range( len(Recomendacao) ):\n",
        "\n",
        "  # Filtro na matriz\n",
        "  Selecao_Loop = ( Matriz.index[ Recomendacao[Loop] ] )\n",
        "\n",
        "  # Atribuindo a Lista\n",
        "  Lista_URL = Selecao_Loop\n",
        "\n",
        "\n",
        "# Filtrando o link das recomendações\n",
        "Link_Recomendao_01 = Tab_Cruzada.loc[ Tab_Cruzada['Titulo'] == Lista_URL[1] ].head(1)['Image-URL-L'].values[0]\n",
        "Link_Recomendao_02 = Tab_Cruzada.loc[ Tab_Cruzada['Titulo'] == Lista_URL[2] ].head(1)['Image-URL-L'].values[0]\n",
        "Link_Recomendao_03 = Tab_Cruzada.loc[ Tab_Cruzada['Titulo'] == Lista_URL[3] ].head(1)['Image-URL-L'].values[0]\n",
        "Link_Recomendao_04 = Tab_Cruzada.loc[ Tab_Cruzada['Titulo'] == Lista_URL[4] ].head(1)['Image-URL-L'].values[0]"
      ]
    },
    {
      "cell_type": "code",
      "execution_count": 59,
      "metadata": {
        "id": "lq9XSny9HKvM"
      },
      "outputs": [],
      "source": [
        "# atribuindo as imagens\n",
        "Imagem_01 = PIL.Image.open( urllib.request.urlopen( Link_Recomendao_01 ) )\n",
        "Imagem_02 = PIL.Image.open( urllib.request.urlopen( Link_Recomendao_02 ) )\n",
        "Imagem_03 = PIL.Image.open( urllib.request.urlopen( Link_Recomendao_03 ) )\n",
        "Imagem_04 = PIL.Image.open( urllib.request.urlopen( Link_Recomendao_04 ) )"
      ]
    },
    {
      "cell_type": "code",
      "execution_count": 60,
      "metadata": {
        "id": "uoySIOXuB6ys"
      },
      "outputs": [],
      "source": [
        "# Construir relatorio\n",
        "import plotly.graph_objects as Go\n",
        "from plotly.subplots import make_subplots"
      ]
    },
    {
      "cell_type": "code",
      "execution_count": 65,
      "metadata": {
        "colab": {
          "base_uri": "https://localhost:8080/",
          "height": 517
        },
        "id": "R3Lpez4iD-LC",
        "outputId": "3d7ed248-f9e3-4af8-9608-90d1c31bd6cf"
      },
      "outputs": [],
      "source": [
        "# Titulos = ['Seleção', 'Recomendação 1', 'Recomendação 2', 'Recomendação 3', 'Recomendação 4']\n",
        "\n",
        "# # Criando a Figura\n",
        "# Figura = make_subplots(\n",
        "#     rows=1,\n",
        "#     cols=5,\n",
        "#     subplot_titles=Titulos\n",
        "# )\n",
        "\n",
        "# # Ajustando o layout\n",
        "# Figura.update_layout(\n",
        "#     height=500,\n",
        "#     width=1200,\n",
        "#     title_text='Sistema de recomendação',\n",
        "#     showlegend=False\n",
        "# )\n",
        "\n",
        "# # Imagem da Seleção\n",
        "# Figura.add_trace(\n",
        "#     Go.Image(\n",
        "#         z=Imagem,\n",
        "#     ),\n",
        "#     row=1, col=1\n",
        "# )\n",
        "\n",
        "# # Imagem da Recomendação 1\n",
        "# Figura.add_trace(\n",
        "#     Go.Image(\n",
        "#         z=Imagem_01,\n",
        "#     ),\n",
        "#     row=1, col=2\n",
        "# )\n",
        "\n",
        "# # Imagem da Recomendação 2\n",
        "# Figura.add_trace(\n",
        "#     Go.Image(\n",
        "#         z=Imagem_02,\n",
        "#     ),\n",
        "#     row=1, col=3\n",
        "# )\n",
        "\n",
        "# # Imagem da Recomendação 3\n",
        "# Figura.add_trace(\n",
        "#     Go.Image(\n",
        "#         z=Imagem_03,\n",
        "#     ),\n",
        "#     row=1, col=4\n",
        "# )\n",
        "\n",
        "# # Imagem da Recomendação 4\n",
        "# Figura.add_trace(\n",
        "#     Go.Image(\n",
        "#         z=Imagem_04,\n",
        "#     ),\n",
        "#     row=1, col=5\n",
        "# )\n",
        "\n",
        "# Mostrar\n",
        "# Figura.show()"
      ]
    },
    {
      "cell_type": "code",
      "execution_count": null,
      "metadata": {
        "id": "JCqBXZd5EUGW"
      },
      "outputs": [],
      "source": []
    }
  ],
  "metadata": {
    "colab": {
      "collapsed_sections": [
        "kOctG96g4-yK"
      ],
      "provenance": []
    },
    "kernelspec": {
      "display_name": "Python 3.9.12 ('base')",
      "language": "python",
      "name": "python3"
    },
    "language_info": {
      "codemirror_mode": {
        "name": "ipython",
        "version": 3
      },
      "file_extension": ".py",
      "mimetype": "text/x-python",
      "name": "python",
      "nbconvert_exporter": "python",
      "pygments_lexer": "ipython3",
      "version": "3.9.12"
    },
    "vscode": {
      "interpreter": {
        "hash": "0a766479fdeb885c95ae2d99b032b2399cc4086429d9ddfc874279d779e292f1"
      }
    }
  },
  "nbformat": 4,
  "nbformat_minor": 0
}
